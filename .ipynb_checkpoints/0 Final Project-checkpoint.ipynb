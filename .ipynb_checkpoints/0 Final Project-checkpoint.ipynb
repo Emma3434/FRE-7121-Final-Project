{
 "cells": [
  {
   "cell_type": "markdown",
   "metadata": {},
   "source": [
    "# Import modules"
   ]
  },
  {
   "cell_type": "code",
   "execution_count": 17,
   "metadata": {},
   "outputs": [],
   "source": [
    "import os\n",
    "# Standard imports\n",
    "import numpy as np\n",
    "import pandas as pd\n",
    "import matplotlib.pyplot as plt\n",
    "import matplotlib\n",
    "import sklearn\n",
    "import math\n",
    "%matplotlib inline\n",
    "from statsmodels.graphics import tsaplots \n",
    "\n",
    "# Import Statsmodels\n",
    "from statsmodels.tsa.api import VAR\n",
    "from statsmodels.tsa.stattools import adfuller\n",
    "from statsmodels.tools.eval_measures import rmse, aic\n",
    "\n",
    "from leap_ec.algorithm import generational_ea\n",
    "from leap_ec import ops, decoder, representation\n",
    "from leap_ec.binary_rep import initializers\n",
    "from leap_ec.binary_rep import problems\n",
    "from leap_ec.binary_rep.ops import mutate_bitflip\n",
    "\n",
    "from leap_ec.decoder import IdentityDecoder\n",
    "import leap_ec\n",
    "\n",
    "import copy\n",
    "import random"
   ]
  },
  {
   "cell_type": "markdown",
   "metadata": {},
   "source": [
    "# Read in data"
   ]
  },
  {
   "cell_type": "code",
   "execution_count": 2,
   "metadata": {
    "scrolled": true
   },
   "outputs": [],
   "source": [
    "# Read in the price data\n",
    "price = pd.read_csv('price.csv')\n",
    "price = price.drop(columns = 'Date')\n",
    "price = price.values.tolist()"
   ]
  },
  {
   "cell_type": "code",
   "execution_count": 3,
   "metadata": {},
   "outputs": [],
   "source": [
    "# Read vector of fuzzy numbers for each trading day\n",
    "A = pd.read_csv('A.csv')\n",
    "A = A.drop(columns = 'Date')\n",
    "A = A.values.tolist()"
   ]
  },
  {
   "cell_type": "markdown",
   "metadata": {},
   "source": [
    "# Individual class"
   ]
  },
  {
   "cell_type": "code",
   "execution_count": 13,
   "metadata": {},
   "outputs": [],
   "source": [
    "# This is a function that initializes a genome, used in the individual class\n",
    "# TODO: figure out a better way to generate genome (matrix M)\n",
    "def genome():\n",
    "    genome = []\n",
    "    for i in range(0,5):\n",
    "        row = []\n",
    "        for j in range (0,4):\n",
    "            row.append(random.uniform(0, 1))\n",
    "        genome.append(row)\n",
    "    return genome"
   ]
  },
  {
   "cell_type": "code",
   "execution_count": 105,
   "metadata": {},
   "outputs": [],
   "source": [
    "mu, sigma = 0, 0.1 # mean and standard deviation\n",
    "def mutate(genome):\n",
    "    # Select the number of mutations that will happen to the matrix\n",
    "    num_mutation = random.randrange(21)\n",
    "    for x in range(0,num_mutation):\n",
    "        # Generate a set of index\n",
    "        i =  random.randrange(4)\n",
    "        j =  random.randrange(3)\n",
    "        \n",
    "        # Keep the gene positive\n",
    "        while True:\n",
    "            # Generate a random  change\n",
    "            mut = np.random.normal(mu, sigma)\n",
    "            # Mutate the gene at the index\n",
    "            genome[i][j] += mut\n",
    "            if (genome[i][j]>0): break\n",
    "            else: continue\n",
    "    return genome\n",
    "\n",
    "def crossover(genome):\n",
    "    # Select the number of crossovers that will happen to the matrix\n",
    "    num_cross = random.randrange(21)\n",
    "    for x in range(0,num_cross):\n",
    "        # Generate 1st set of index\n",
    "        i_1 =  random.randrange(4)\n",
    "        j_1 =  random.randrange(3)\n",
    "        # Generate 2nd set of index\n",
    "        i_2 =  random.randrange(4)\n",
    "        j_2 =  random.randrange(3)\n",
    "        \n",
    "        temp =  genome[i_1][j_1]\n",
    "        genome[i_1][j_1] = genome[i_2][j_2]\n",
    "        genome[i_2][j_2] = temp\n",
    "    return genome"
   ]
  },
  {
   "cell_type": "code",
   "execution_count": 61,
   "metadata": {},
   "outputs": [],
   "source": [
    "# Individual class\n",
    "class OurIndividual:\n",
    "    def __init__(self,genome,decoder,problem):\n",
    "        self.genome = genome\n",
    "        self.decoder = decoder\n",
    "        self.problem = problem\n",
    "        self.phenome = self.decoder.decode(self.genome)\n",
    "    def clone(self):\n",
    "        # TODO: It should be a deep copy\n",
    "        return self\n",
    "#     def decode(self):\n",
    "#         return self.phenome\n",
    "    def evaluate(self, A, price, start, period, initial_bank):\n",
    "        return self.problem.evaluate(self.phenome,A, price, start, period, initial_bank)\n",
    "    \n",
    "    # These are class methods\n",
    "    @classmethod\n",
    "    def create_population(self,n,initialize,decoder,problem):\n",
    "        # Population is a list of individuals\n",
    "        population = []\n",
    "        # Initialize n individuals and put them into the population\n",
    "        # They are with the same decoder and problem but having different genomes\n",
    "        for i in range(0,n):\n",
    "            ind = OurIndividual(initialize(),decoder = decoder, problem = problem)\n",
    "            population.append(ind)\n",
    "        # This function returns a list of individuals of this class type\n",
    "        return population\n",
    "    \n",
    "    @classmethod\n",
    "    def evaluate_population(self,population, A, price, start, period, initial_bank):\n",
    "        evaluation = []\n",
    "        for ind in population:\n",
    "            phenome = ind.phenome\n",
    "            fitness = ind.problem.evaluate(phenome, A, price, start, period, initial_bank)\n",
    "            evaluation.append(fitness)\n",
    "        return evaluation"
   ]
  },
  {
   "cell_type": "markdown",
   "metadata": {},
   "source": [
    "# Decoder class"
   ]
  },
  {
   "cell_type": "markdown",
   "metadata": {},
   "source": [
    "After analysis, the decoder class in LEAP intends to generate the phenome only using the genome of the individual. Our initial thoughts was to treat U as the phenome. However, U needed to be calculated combined with every day membership value vectors (A). Thus, our choice of decoder is the `IdentityDecoder()`, which maps the genome into itself."
   ]
  },
  {
   "cell_type": "markdown",
   "metadata": {},
   "source": [
    "# Problem class"
   ]
  },
  {
   "cell_type": "code",
   "execution_count": 75,
   "metadata": {},
   "outputs": [],
   "source": [
    "# Problem class\n",
    "class OurProblem:        \n",
    "    # This function will return the vector B\n",
    "    def get_B(self, A, phenome):\n",
    "        B = []\n",
    "        for j in range(0,4):\n",
    "            b = max(min(A[0],phenome[0][j]),\n",
    "                      min(A[1],phenome[1][j]),\n",
    "                      min(A[2],phenome[2][j]),\n",
    "                      min(A[3],phenome[3][j]),\n",
    "                      min(A[4],phenome[4][j]))\n",
    "            B.append(b)\n",
    "        return B\n",
    "    \n",
    "     # This function will return the U value\n",
    "    def get_U(self, B, Lambda):\n",
    "        top = 0\n",
    "        bottom = 0\n",
    "        for i in range(0,4):\n",
    "            top += B[i]*Lambda[i]\n",
    "            bottom += Lambda[i]\n",
    "        U = top/bottom\n",
    "        return U\n",
    "    \n",
    "    # This function will return the signal based on U value\n",
    "    def get_signal(self, U,upper,lower):        \n",
    "        if (U > upper): \n",
    "            # If U is higher than the upper threshold then buy\n",
    "            signal = \"B\"\n",
    "        elif (U < lower):\n",
    "            # TODO: not very sure how it works for the sell.....\n",
    "            # If U is lower than the lower threshold then sell \n",
    "            signal = \"S\"\n",
    "        else:\n",
    "            # If else, then no signal was detected\n",
    "            signal = \"N\"\n",
    "        return signal\n",
    "    \n",
    "    # This function will return the amount of this deal\n",
    "    def  get_amount(self, signal, U,upper,lower):\n",
    "        if (signal == \"B\"):\n",
    "            # If buying then the amount is \n",
    "            amount = abs(U-upper)\n",
    "        elif (signal == \"S\"):\n",
    "            # If selling then the amount is \n",
    "            amount = abs(U-lower)\n",
    "        else:\n",
    "            # If no action then no amount\n",
    "            amount = 0\n",
    "        \n",
    "        # Check for maximum limit of amount\n",
    "        if (amount <= 20):\n",
    "            pass\n",
    "        else:\n",
    "             amount = 20\n",
    "                \n",
    "        return amount\n",
    "    \n",
    "    # This function will find the price needed for this deal\n",
    "    def get_price(self, signal,price):\n",
    "        if (signal == \"B\"):\n",
    "            # If buying then at the opening price\n",
    "            price = price[0]\n",
    "        elif (signal == \"S\"):\n",
    "            # If selling then sell at the closing price\n",
    "            price = price[4]\n",
    "        else:\n",
    "            # If no action then no price\n",
    "            price = 0\n",
    "        return price\n",
    "    \n",
    "    # This function will return the result of this deal\n",
    "    def get_result(self, signal, price, amount):\n",
    "        if (signal == \"B\"):\n",
    "            result = -( price * amount )\n",
    "        elif (signal == \"S\"):\n",
    "            result = price * amount\n",
    "        else:\n",
    "            result = 0\n",
    "            \n",
    "        return result\n",
    "            \n",
    "    # This function will evaluate the fitness of a \n",
    "    def evaluate(self, phenome, A, price, start, period, initial_bank):\n",
    "        # Set boundaries for buy and sell\n",
    "        upper = 0.6\n",
    "        lower = 0.55\n",
    "        # Singleton Fuzzifier\n",
    "        Lambda = [0.25, 0.5, 0.75, 1.0]\n",
    "        # Get the list of vectors of fuzzy numbers (A)\n",
    "        A_list = A\n",
    "        # Get the list of prices with matching index of A (price)\n",
    "        price_list = price\n",
    "        \n",
    "        # Trading start date\n",
    "        start = start\n",
    "        # Trading period\n",
    "        period = period\n",
    "        # Trading initial bank account value\n",
    "        result = initial_bank\n",
    "        \n",
    "        \n",
    "        # Trade: from start date to the end of the period\n",
    "        for i in range(start, start+period+1):\n",
    "            A = A_list[i]\n",
    "            # Calculate the U of this trading day\n",
    "            B = self.get_B(A, phenome)\n",
    "            U = self.get_U(B, Lambda)\n",
    "            \n",
    "            # The signal of this trading day\n",
    "            signal = self.get_signal(U,upper,lower)\n",
    "            # The amount of this traidng day\n",
    "            amount = self.get_amount(signal,U,upper,lower)\n",
    "            # The price of this deal for this traidng day\n",
    "            price = self.get_price(signal,price_list[i])\n",
    "            # The change in bank account of this trading day compounded with this \n",
    "            result += self.get_result(signal, price, amount)\n",
    "            \n",
    "        \n",
    "        # The original design\n",
    "        self.fitness = result\n",
    "\n",
    "        return result\n",
    "    \n",
    "    \n",
    "    # This function will return if the given two are of the same fitness\n",
    "    def equivalent(self, first_fitness, second_fitness):\n",
    "        return first_fitness == second_fitness\n",
    "    \n",
    "    # This function will return which one of the fitness is better (maximum)\n",
    "    def better_than(self, first_fitness, second_fitness):\n",
    "        return max(first_fitness, second_fitness)\n",
    "        "
   ]
  },
  {
   "cell_type": "markdown",
   "metadata": {},
   "source": [
    "# Example"
   ]
  },
  {
   "cell_type": "code",
   "execution_count": 78,
   "metadata": {},
   "outputs": [
    {
     "name": "stdout",
     "output_type": "stream",
     "text": [
      "The genome of best in population:  [[0.511121003455396, 0.5436390857587869, 0.9855978765507916, 0.3751394040692002], [0.9281547779835496, 0.2698069690949675, 0.43052569199424184, 0.37739683252168665], [0.4099977849684573, 0.011379870435809125, 0.42671103628668994, 0.6913271397651096], [0.2963507879693935, 0.21775553828631888, 0.7719313428310831, 0.8229664931013061], [0.9112814045774791, 0.24792494930737707, 0.2984001696019226, 0.1347057896943631]]\n",
      "The fitness of the best in population:  179.03880799066664\n"
     ]
    }
   ],
   "source": [
    "# Population setup\n",
    "start = 0 # start day index\n",
    "period = 150 # trading period\n",
    "initial_bank = 100.0 # Initial bank account value\n",
    "n = 40 # Number of people in one population\n",
    "\n",
    "# Initialize a population\n",
    "population = OurIndividual.create_population(n,genome,IdentityDecoder(),OurProblem())\n",
    "\n",
    "# Evaluate a population\n",
    "pop_eval = OurIndividual.evaluate_population(population, A, price, start, period, initial_bank)\n",
    "\n",
    "# \n",
    "max_index = pop_eval.index(max(pop_eval))\n",
    "max_individual = population[max_index]\n",
    "\n",
    "print(\"The genome of best in population: \",max_individual.genome)\n",
    "print(\"The fitness of the best in population: \", pop_eval[max_index])"
   ]
  },
  {
   "cell_type": "markdown",
   "metadata": {},
   "source": [
    "## Test"
   ]
  },
  {
   "cell_type": "code",
   "execution_count": 63,
   "metadata": {},
   "outputs": [],
   "source": [
    "ind = OurIndividual([[0,0.6,0.5,0],\n",
    "                     [0,0.33,0.33,0.33],\n",
    "                     [0,0.1,1.0,0.9],\n",
    "                     [0,0.44,0.5,0.1],\n",
    "                     [0,0.1,0.2,0.7]],decoder = IdentityDecoder(), problem = OurProblem())"
   ]
  },
  {
   "cell_type": "code",
   "execution_count": 64,
   "metadata": {},
   "outputs": [
    {
     "data": {
      "text/plain": [
       "[[0, 0.6, 0.5, 0],\n",
       " [0, 0.33, 0.33, 0.33],\n",
       " [0, 0.1, 1.0, 0.9],\n",
       " [0, 0.44, 0.5, 0.1],\n",
       " [0, 0.1, 0.2, 0.7]]"
      ]
     },
     "execution_count": 64,
     "metadata": {},
     "output_type": "execute_result"
    }
   ],
   "source": [
    "ind_copy = ind.clone()\n",
    "ind_copy.genome"
   ]
  },
  {
   "cell_type": "code",
   "execution_count": 65,
   "metadata": {},
   "outputs": [
    {
     "data": {
      "text/plain": [
       "[[0, 0.6, 0.5, 0],\n",
       " [0, 0.33, 0.33, 0.33],\n",
       " [0, 0.1, 1.0, 0.9],\n",
       " [0, 0.44, 0.5, 0.1],\n",
       " [0, 0.1, 0.2, 0.7]]"
      ]
     },
     "execution_count": 65,
     "metadata": {},
     "output_type": "execute_result"
    }
   ],
   "source": [
    "ind.decode()"
   ]
  },
  {
   "cell_type": "code",
   "execution_count": 66,
   "metadata": {},
   "outputs": [
    {
     "data": {
      "text/plain": [
       "[[0, 0.6, 0.5, 0],\n",
       " [0, 0.33, 0.33, 0.33],\n",
       " [0, 0.1, 1.0, 0.9],\n",
       " [0, 0.44, 0.5, 0.1],\n",
       " [0, 0.1, 0.2, 0.7]]"
      ]
     },
     "execution_count": 66,
     "metadata": {},
     "output_type": "execute_result"
    }
   ],
   "source": [
    "ind.phenome"
   ]
  },
  {
   "cell_type": "code",
   "execution_count": 67,
   "metadata": {},
   "outputs": [
    {
     "data": {
      "text/plain": [
       "108.05262150727074"
      ]
     },
     "execution_count": 67,
     "metadata": {},
     "output_type": "execute_result"
    }
   ],
   "source": [
    "start = 0\n",
    "period = 150\n",
    "initial_bank = 100.0\n",
    "\n",
    "ind = OurIndividual(genome(),decoder = IdentityDecoder(), problem = OurProblem())\n",
    "\n",
    "prb = OurProblem()\n",
    "phenome = ind.phenome\n",
    "#B = prb.get_B(A[0],phenome)\n",
    "#B\n",
    "result = prb.evaluate(phenome, A, price, start, period, initial_bank)\n",
    "# #ind.evaluate(A, price, start, period, initial_bank)\n",
    "result"
   ]
  },
  {
   "cell_type": "code",
   "execution_count": 69,
   "metadata": {},
   "outputs": [
    {
     "data": {
      "text/plain": [
       "108.05262150727074"
      ]
     },
     "execution_count": 69,
     "metadata": {},
     "output_type": "execute_result"
    }
   ],
   "source": [
    "evaluation = ind.evaluate(A, price, start, period, initial_bank)\n",
    "evaluation"
   ]
  },
  {
   "cell_type": "code",
   "execution_count": 35,
   "metadata": {},
   "outputs": [
    {
     "name": "stdout",
     "output_type": "stream",
     "text": [
      "[[0.42336258200316534, 0.43838024175269086, 0.11048028880341643, 0.5404188634537661], [0.1377419834763367, 0.5100711632886615, 0.3508811517628465, 0.4634698966027119], [0.31700321373732065, 0.566039518031858, 0.6161590050503069, 0.17444843454712566], [0.4944969170389726, 0.1415512728831706, 0.05197354521231967, 0.8934603804339097], [0.07859010645601139, 0.9806344957677393, 0.2707630195112176, 0.1413338906751106]] 160.15091130859875\n"
     ]
    }
   ],
   "source": [
    "# Population evaluation\n",
    "n = 40\n",
    "\n",
    "population = OurIndividual.create_population(n,genome,IdentityDecoder(),OurProblem())\n",
    "#person = population[0]\n",
    "pop_eval = OurIndividual.evaluate_population(population, A, price, start, period, initial_bank)\n",
    "print(population[0].genome,pop_eval[0])"
   ]
  },
  {
   "cell_type": "code",
   "execution_count": 428,
   "metadata": {},
   "outputs": [
    {
     "data": {
      "text/plain": [
       "[[0, 0.6, 0.5, 0],\n",
       " [0, 0.33, 0.33, 0.33],\n",
       " [0, 0.1, 1.0, 0.9],\n",
       " [0, 0.44, 0.5, 0.1],\n",
       " [0, 0.1, 0.2, 0.7]]"
      ]
     },
     "execution_count": 428,
     "metadata": {},
     "output_type": "execute_result"
    }
   ],
   "source": [
    "# 这个是libaray里面的一个例子\n",
    "# 我用这个只是新建一个individual with matrix (M) as genome\n",
    "# 这样后面就可以用这个ind.genome 来access 这个individual的策略（M）\n",
    "from leap_ec.binary_rep.problems import MaxOnes\n",
    "from leap_ec.decoder import IdentityDecoder\n",
    "import leap_ec\n",
    "ind = leap_ec.individual.Individual([[0,0.6,0.5,0],\n",
    "                                     [0,0.33,0.33,0.33],\n",
    "                                     [0,0.1,1.0,0.9],\n",
    "                                     [0,0.44,0.5,0.1],\n",
    "                                     [0,0.1,0.2,0.7]],decoder = IdentityDecoder(), problem = MaxOnes())\n",
    "ind.decode()"
   ]
  },
  {
   "cell_type": "code",
   "execution_count": null,
   "metadata": {},
   "outputs": [],
   "source": []
  }
 ],
 "metadata": {
  "kernelspec": {
   "display_name": "Python 3",
   "language": "python",
   "name": "python3"
  },
  "language_info": {
   "codemirror_mode": {
    "name": "ipython",
    "version": 3
   },
   "file_extension": ".py",
   "mimetype": "text/x-python",
   "name": "python",
   "nbconvert_exporter": "python",
   "pygments_lexer": "ipython3",
   "version": "3.8.5"
  }
 },
 "nbformat": 4,
 "nbformat_minor": 4
}
