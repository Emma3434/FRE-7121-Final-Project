{
  "cells": [
    {
      "cell_type": "markdown",
      "source": "# Import modules",
      "metadata": {
        "cell_id": "00000-d065a75d-311f-466a-a798-72e7ccea515f",
        "deepnote_cell_type": "markdown"
      }
    },
    {
      "cell_type": "code",
      "metadata": {
        "cell_id": "00001-c0a3b3a5-7c45-4ba2-a26d-2917a2eae09d",
        "deepnote_to_be_reexecuted": false,
        "source_hash": "89538f36",
        "execution_millis": 906,
        "execution_start": 1616198181255,
        "deepnote_cell_type": "code"
      },
      "source": "import os\n# Standard imports\nimport numpy as np\nimport pandas as pd\nimport matplotlib.pyplot as plt\nimport matplotlib\nimport sklearn\nimport math\n%matplotlib inline\nfrom statsmodels.graphics import tsaplots \n\nfrom leap_ec.algorithm import generational_ea\nfrom leap_ec import ops, decoder, representation\nfrom leap_ec.binary_rep import initializers\nfrom leap_ec.binary_rep import problems\nfrom leap_ec.binary_rep.ops import mutate_bitflip\n\nfrom leap_ec.decoder import IdentityDecoder\nimport leap_ec\n\nimport copy\nimport random",
      "execution_count": 1,
      "outputs": []
    },
    {
      "cell_type": "markdown",
      "source": "# Read in data",
      "metadata": {
        "cell_id": "00002-134d50be-9b7d-41b8-83d3-a6b43a4b1546",
        "deepnote_cell_type": "markdown"
      }
    },
    {
      "cell_type": "code",
      "metadata": {
        "scrolled": true,
        "cell_id": "00003-010d2243-e272-4e0c-837b-4b7c51195c3a",
        "deepnote_to_be_reexecuted": false,
        "source_hash": "6c110f72",
        "execution_millis": 13,
        "execution_start": 1616198182166,
        "deepnote_cell_type": "code"
      },
      "source": "# Read in the price data\nprice = pd.read_csv('price.csv')\nprice = price.drop(columns = 'Date')\nprice = price.values.tolist()",
      "execution_count": 2,
      "outputs": []
    },
    {
      "cell_type": "code",
      "metadata": {
        "cell_id": "00004-b4cbef0e-4986-47e1-8348-4f15a77d3474",
        "deepnote_to_be_reexecuted": false,
        "source_hash": "96b77101",
        "execution_millis": 1,
        "execution_start": 1616198182215,
        "deepnote_cell_type": "code"
      },
      "source": "# Read vector of fuzzy numbers for each trading day\nA = pd.read_csv('A.csv')\nA = A.drop(columns = 'Date')\nA = A.values.tolist()",
      "execution_count": 3,
      "outputs": []
    },
    {
      "cell_type": "markdown",
      "source": "# Individual class",
      "metadata": {
        "cell_id": "00005-0e21fdc2-27a2-47e9-a33d-49d774c25dac",
        "deepnote_cell_type": "markdown"
      }
    },
    {
      "cell_type": "code",
      "metadata": {
        "cell_id": "00006-bce233b6-3681-44f6-998c-33580e6cb98a",
        "deepnote_to_be_reexecuted": false,
        "source_hash": "af453356",
        "execution_millis": 0,
        "execution_start": 1616198182216,
        "deepnote_cell_type": "code"
      },
      "source": "# This is a function that initializes a genome, used in the individual class\ndef genome():\n    genome = []\n    for i in range(0,5):\n        row = []\n        for j in range (0,4):\n            row.append(random.uniform(0, 1))\n        genome.append(row)\n    return genome",
      "execution_count": 4,
      "outputs": []
    },
    {
      "cell_type": "code",
      "metadata": {
        "cell_id": "00008-33a7f7bc-2274-4e39-9c2e-7bf1c3a45f7b",
        "deepnote_to_be_reexecuted": false,
        "source_hash": "1eb230b8",
        "execution_millis": 0,
        "execution_start": 1616198182217,
        "deepnote_cell_type": "code"
      },
      "source": "# Individual class\nclass OurIndividual:\n    def __init__(self,genome,decoder,problem,initial_bank):\n        self.genome = genome\n        self.decoder = decoder\n        self.problem = problem\n        self.phenome = self.decoder.decode(self.genome)\n        self.bank = initial_bank\n        ##new feature\n        self.fitness = 0\n    def clone(self):\n        # TODO: It should be a deep copy\n        return self\n#     def decode(self):\n#         return self.phenome\n    def evaluate(self, A, price, start, period):\n        self.problem.evaluate(self.phenome,A, price, start, period, self.bank)\n        # self.bank = self.problem.result_bank\n        # return self.problem.result_bank\n    \n    # # These are class methods\n    # @classmethod\n    # def create_population(self,n,initialize,decoder,problem,initial_bank):\n    #     # Population is a list of individuals\n    #     population = []\n    #     # Initialize n individuals and put them into the population\n    #     # They are with the same decoder and problem but having different genomes\n    #     for i in range(0,n):\n    #         ind = OurIndividual(initialize(),decoder = decoder, problem = problem, initial_bank = initial_bank)\n    #         population.append(ind)\n    #     # This function returns a list of individuals of this class type\n    #     return population\n    \n    # @classmethod\n    # def evaluate_population(self,population, A, price, start, period):\n    #     evaluation = []\n    #     for ind in population:\n    #         phenome = ind.phenome\n    #         fitness = ind.problem.evaluate(phenome, A, price, start, period, ind.bank)\n    #         # new feature\n    #         self.fitness = fitness\n    #         evaluation.append(fitness)\n    #     return evaluation\n\n    # @classmethod\n    # def get_fitness(self):\n    #     return self.fitness",
      "execution_count": 5,
      "outputs": []
    },
    {
      "cell_type": "markdown",
      "source": "# Population class",
      "metadata": {
        "tags": [],
        "cell_id": "00009-196c634c-bf03-4bab-8b2b-cb17a55d30dc",
        "deepnote_cell_type": "markdown"
      }
    },
    {
      "cell_type": "code",
      "metadata": {
        "tags": [],
        "cell_id": "00010-19660db5-7c4a-4d83-88ae-92fab90d8b4c",
        "deepnote_to_be_reexecuted": false,
        "source_hash": "b42ea974",
        "execution_millis": 70,
        "execution_start": 1616198182219,
        "deepnote_cell_type": "code"
      },
      "source": "# Mutations and crossover\nmu, sigma = 0, 0.1 # mean and standard deviation\ndef mutate(genome):\n    # Select the number of mutations that will happen to the matrix\n    num_mutation = random.randrange(21)\n    for x in range(0,num_mutation):\n        # Generate a set of index\n        i =  random.randrange(4)\n        j =  random.randrange(3)\n        \n        # Keep the gene positive\n        while True:\n            # Generate a random  change\n            mut = np.random.normal(mu, sigma)\n            # Mutate the gene at the index\n            genome[i][j] += mut\n            if (genome[i][j]>= 0 and genome[i][j] <= 1): break\n            else:\n                genome[i][j] -= mut \n                continue\n    return genome\n\ndef crossover(genome):\n    # Select the number of crossovers that will happen to the matrix\n    num_cross = random.randrange(21)\n    for x in range(0,num_cross):\n        # Generate 1st set of index\n        i_1 =  random.randrange(4)\n        j_1 =  random.randrange(3)\n        # Generate 2nd set of index\n        i_2 =  random.randrange(4)\n        j_2 =  random.randrange(3)\n        \n        temp =  genome[i_1][j_1]\n        genome[i_1][j_1] = genome[i_2][j_2]\n        genome[i_2][j_2] = temp\n    return genome\n\ndef one_pt_crossover(genome1, genome2):\n    off_spring_1 = pd.DataFrame([])\n    off_spring_2 = pd.DataFrame([])\n    genome1 = pd.DataFrame(genome1)\n    genome2 = pd.DataFrame(genome2)\n\n    cut = random.randint(0,5)\n    vec1 = genome1.loc[:,0]\n    vec2 = genome2.loc[:,0]\n    off_spring_1 = pd.DataFrame(vec1[:cut].append(vec2[cut:]))\n    off_spring_2 = pd.DataFrame(vec2[:cut].append(vec1[cut:]))\n\n    for x in range(1,4):\n        cut = random.randint(0,5)\n        vec1 = genome1.loc[:,x]\n        vec2 = genome2.loc[:,x]\n        temp_1 = pd.DataFrame(vec1[:cut].append(vec2[cut:]))\n        temp_2 = pd.DataFrame(vec2[:cut].append(vec1[cut:]))\n        #print('temp1', temp_1)\n        off_spring_1 = np.concatenate([off_spring_1, temp_1], axis = 1)\n        off_spring_2 = np.concatenate([off_spring_2, temp_2], axis = 1)\n    # Change back to lists\n    #off_spring_1 = off_spring_1.values.tolist()\n    #off_spring_2 = off_spring_2.values.tolist()\n    #print(off_spring_1)\n    return off_spring_1, off_spring_2\n",
      "execution_count": 6,
      "outputs": []
    },
    {
      "cell_type": "code",
      "metadata": {
        "tags": [],
        "cell_id": "00009-cb121434-0184-4619-87b7-addbbb53ca58",
        "deepnote_to_be_reexecuted": false,
        "source_hash": "8d2403f5",
        "execution_millis": 1,
        "execution_start": 1616198182314,
        "deepnote_cell_type": "code"
      },
      "source": "# Population class\nclass OurPopulation:\n    def __init__(self,n,initialize,decoder,problem,initial_bank):\n        # Population is a list of individuals\n        population = []\n\n        # Initialize n individuals and put them into the population\n        # They are with the same decoder and problem but having different genomes\n        for i in range(0,n):\n            ind = OurIndividual(initialize(),decoder = decoder, problem = problem, initial_bank = initial_bank)\n            population.append(ind)\n        \n        self.population = population\n        self.fitness = []\n    \n    # This evaluation will inherit the individual's previous bank account\n    def evaluate(self, A, price, start, period):\n        population = self.population\n        # Initialize a evaluation score list\n        evaluation = []\n\n        # Evaluate the fitness of each individual and append to the list\n        for ind in population:\n            fitness = ind.problem.evaluate(ind, A, price, start, period, ind.bank)\n            ind.fitness = fitness\n            evaluation.append(fitness)\n        \n        self.fitness = evaluation\n        # Return the evaluation list\n        return evaluation\n    \n    # This evaluation will evaluate each individual with the same bank\n    def evaluate_i(self, A, price, start, period, initial_bank):\n        population = self.population\n        # Initialize a evaluation score list\n        evaluation = []\n\n        # Evaluate the fitness of each individual and append to the list\n        for ind in population:\n            # Evaluate the individual with the same bank\n            fitness = ind.problem.evaluate(ind, A, price, start, period, initial_bank)\n            ind.fitness = fitness\n            evaluation.append(fitness)\n        \n        self.fitness = evaluation\n        # Return the evaluation list\n        return evaluation\n    \n    # This function evolves the population with each new individual start with initial_bank\n    def evolve(self, decoder, problem, price, start, period, initial_bank):\n        # initialize\n        pop_obj = self\n        # population = self.population\n\n        # Get the 2 best performing individuals from orig_population\n        # Evaluate the current population with the same initial bank\n        pop_eval = pop_obj.evaluate_i(A, price, start, period, initial_bank)\n        # The best individual and 2nd best individual\n        mom_id = pop_eval.index(max(pop_eval))\n        temp = pop_eval\n        temp[mom_id] = 0\n        dad_id = temp.index(max(temp))\n        mom, dad = pop_obj.population[mom_id], pop_obj.population[dad_id]\n\n        # Population is a list of individuals\n        new_generation = []\n        n = len(pop_obj.population)\n\n        # Initialize n individuals and put them into the population\n        # They are with the same decoder and problem but having different genomes\n        for i in range(0,math.floor(n/2)):\n            gene1, gene2 = one_pt_crossover(mom.genome, dad.genome)\n            # Initialize 2 new individuals with initial bank\n            ind1 = OurIndividual(gene1,decoder = decoder, problem = problem, initial_bank=initial_bank)\n            ind2 = OurIndividual(gene1,decoder = decoder, problem = problem, initial_bank=initial_bank)\n            new_generation.append(ind1)\n            new_generation.append(ind2)\n\n        # Add the new generation to the original population\n        pop_obj.population.extend(new_generation)\n\n        # Evaluate the population that have the original individuals and new individuals\n        pop_obj.evaluate(A, price, start, period)\n\n        # Sort the population to get the best performing 40 people that can stay in the population\n        population = pop_obj.population\n        fitness = pop_obj.fitness\n        df = pd.DataFrame({'pop':population,'fit':fitness})\n        df.sort_values(by=['fit'])\n        population = df['pop'][:n].tolist()\n        fitness = df['fit'][:n].tolist()\n\n        pop_obj.population = population\n        pop_obj.fitness = fitness\n        self = pop_obj\n        # sorted_population = (x for _,x in sorted (zip(fitness,population)))\n        # zip_obj = zip(fitness,population)\n        # sorted_population = sorted(pop_obj.population, key = lambda x:x.fitness)[:n]\n        # fitness, population = zip(*sorted(zip(fitness, population)))\n\n\n        # # This function returns a list of individuals of this class type\n        # # return new_population",
      "execution_count": 7,
      "outputs": []
    },
    {
      "cell_type": "code",
      "metadata": {
        "tags": [],
        "cell_id": "00011-3eb6aa22-45f6-4271-a32d-9f380bbeab1c",
        "deepnote_to_be_reexecuted": false,
        "source_hash": "b623e53d",
        "execution_millis": 2,
        "execution_start": 1616198182315,
        "deepnote_cell_type": "code"
      },
      "source": "",
      "execution_count": 7,
      "outputs": []
    },
    {
      "cell_type": "code",
      "metadata": {
        "tags": [],
        "cell_id": "00011-b2564adc-1006-47d5-86b3-87a254b74cc8",
        "deepnote_to_be_reexecuted": false,
        "source_hash": "aea9577e",
        "execution_millis": 1,
        "execution_start": 1616198182319,
        "deepnote_cell_type": "code"
      },
      "source": "# ind1 = OurIndividual(genome(),IdentityDecoder(),OurProblem(),initial_bank)\n# ind2 = OurIndividual(genome(),IdentityDecoder(),OurProblem(),initial_bank)\n# pop = [ind1,ind2]\n# fit = [0.3,0.2]\n# print(pop)\n# sort = [x for _,x in sorted (zip(fit,pop))]\n# print(sort)",
      "execution_count": 8,
      "outputs": []
    },
    {
      "cell_type": "markdown",
      "source": "# Decoder class",
      "metadata": {
        "cell_id": "00009-5f144ec8-9ac7-452e-a2de-35b39edf9bba",
        "deepnote_cell_type": "markdown"
      }
    },
    {
      "cell_type": "markdown",
      "source": "After analysis, the decoder class in LEAP intends to generate the phenome only using the genome of the individual. Our initial thoughts was to treat U as the phenome. However, U needed to be calculated combined with every day membership value vectors (A). Thus, our choice of decoder is the `IdentityDecoder()`, which maps the genome into itself.",
      "metadata": {
        "cell_id": "00010-a79d6a0e-162e-40ee-8f4a-0f4eca0090b9",
        "deepnote_cell_type": "markdown"
      }
    },
    {
      "cell_type": "markdown",
      "source": "# Problem class",
      "metadata": {
        "cell_id": "00011-4a90fe29-bd6b-45dc-9ec9-afbd3f34f102",
        "deepnote_cell_type": "markdown"
      }
    },
    {
      "cell_type": "code",
      "metadata": {
        "cell_id": "00012-d22c5265-361d-4312-b479-8e44fe320d68",
        "deepnote_to_be_reexecuted": false,
        "source_hash": "599cffd1",
        "execution_millis": 0,
        "execution_start": 1616198182347,
        "deepnote_cell_type": "code"
      },
      "source": "# Problem class\nclass OurProblem():\n    # This function will return the vector B\n    def get_B(self, A, phenome):\n        B = []\n        for j in range(0,4):\n            b = max(min(A[0],phenome[0][j]),\n                      min(A[1],phenome[1][j]),\n                      min(A[2],phenome[2][j]),\n                      min(A[3],phenome[3][j]),\n                      min(A[4],phenome[4][j]))\n            B.append(b)\n        return B\n    \n     # This function will return the U value\n    def get_U(self, B, Lambda):\n        top = 0\n        bottom = 0\n        for i in range(0,4):\n            top += B[i]*Lambda[i]\n            bottom += Lambda[i]\n        U = top/bottom\n        return U\n    \n    # This function will return the signal based on U value\n    def get_signal(self, U,upper,lower):        \n        if (U > upper): \n            # If U is higher than the upper threshold then buy\n            signal = \"B\"\n        elif (U < lower):\n            # TODO: not very sure how it works for the sell.....\n            # If U is lower than the lower threshold then sell \n            signal = \"S\"\n        else:\n            # If else, then no signal was detected\n            signal = \"N\"\n        return signal\n    \n    # This function will return the amount of this deal\n    def  get_amount(self, signal, U,upper,lower):\n        if (signal == \"B\"):\n            # If buying then the amount is \n            amount = abs(U-upper)\n        elif (signal == \"S\"):\n            # If selling then the amount is \n            amount = abs(U-lower)\n        else:\n            # If no action then no amount\n            amount = 0\n        \n        # Check for maximum limit of amount\n        if (amount <= 20):\n            pass\n        else:\n             amount = 20\n                \n        return amount\n    \n    # This function will find the price needed for this deal\n    def get_price(self, signal,price):\n        if (signal == \"B\"):\n            # If buying then at the opening price\n            price = price[0]\n        elif (signal == \"S\"):\n            # If selling then sell at the closing price\n            price = price[4]\n        else:\n            # If no action then no price\n            price = 0\n        return price\n    \n    # This function will return the result of this deal\n    def get_result(self, signal, price, amount):\n        if (signal == \"B\"):\n            result = -( price * amount )\n        elif (signal == \"S\"):\n            result = price * amount\n        else:\n            result = 0\n            \n        return result\n            \n    # This function will evaluate the fitness of a individual\n    def evaluate(self, ind, A, price, start, period, initial_bank):\n        # Set boundaries for buy and sell\n        upper = 0.6\n        lower = 0.55\n        # Singleton Fuzzifier\n        Lambda = [0.25, 0.5, 0.75, 1.0]\n        # Get the list of vectors of fuzzy numbers (A)\n        A_list = A\n        # Get the list of prices with matching index of A (price)\n        price_list = price\n        \n        # Trading start date\n        start = start\n        # Trading period\n        period = period\n        # Trading initial bank account value\n        result = initial_bank\n        \n        # Records performance\n        upside_perf = []\n        downside_perf = []\n\n        # Trade: from start date to the end of the period\n        for i in range(start, start+period+1):\n            A_previous = A_list[i-1]\n            # Calculate the U of the previous trading day\n            B = self.get_B(A_previous, ind.phenome)\n            U = self.get_U(B, Lambda)\n            \n\n            # The signal of this trading day\n            signal = self.get_signal(U,upper,lower)\n            # The amount of this traidng day\n            amount = self.get_amount(signal,U,upper,lower)\n            # The price of this deal for this traidng day\n            price = self.get_price(signal,price_list[i])\n            # The change in bank account of this trading day compounded with this\n            daily_result = self.get_result(signal,price,amount) \n            if daily_result > 0:\n                upside_perf.append(daily_result/result)\n            else:\n                downside_perf.append(daily_result/result)\n            result += daily_result\n        \n        ind.bank = result\n        \n        # Sterling ratio\n        # sr_result = (result-initial_bank)/initial_bank/min(downside_perf)\n\n        # Upside Potential Ratio \n        # upr_result = mean(upside_perf)/sqrt(mean(downside_perf)**2 - vars(downside_perf))\n\n        return result\n    \n    \n    # This function will return if the given two are of the same fitness\n    def equivalent(self, first_fitness, second_fitness):\n        return first_fitness == second_fitness\n    \n    # This function will return which one of the fitness is better (maximum)\n    def better_than(self, first_fitness, second_fitness):\n        return max(first_fitness, second_fitness)\n        ",
      "execution_count": 9,
      "outputs": []
    },
    {
      "cell_type": "markdown",
      "source": "# Example",
      "metadata": {
        "cell_id": "00013-7f38a82f-c839-499c-b3c3-830014f9d0c0",
        "deepnote_cell_type": "markdown"
      }
    },
    {
      "cell_type": "code",
      "metadata": {
        "tags": [],
        "cell_id": "00015-484fd82f-1b57-4c45-9036-bceed021a3bc",
        "deepnote_to_be_reexecuted": false,
        "source_hash": "96dad911",
        "execution_millis": 1,
        "execution_start": 1616198182347,
        "deepnote_cell_type": "code"
      },
      "source": "# Individual bank test\nstart = 199 # start day index\nperiod = 150 # trading period\ninitial_bank = 100.0 # Initial bank account value\ntotal_days = len(A)-period\n\ng = genome()\n\nind = OurIndividual(g,decoder = IdentityDecoder(), problem = OurProblem(), initial_bank = initial_bank)\n# for i in range(0,total_days):\n#     start = i\n#     ind.bank = initial_bank\n#     ind.evaluate(A, price, start, period)\n#     print(start, \" \", ind.bank)\n#ind.evaluate(A, price, start, period)",
      "execution_count": 10,
      "outputs": []
    },
    {
      "cell_type": "code",
      "metadata": {
        "cell_id": "00014-fcc142db-4fdb-4d8c-869a-3d5bb2a90480",
        "deepnote_to_be_reexecuted": false,
        "source_hash": "9650dfbf",
        "execution_millis": 5,
        "execution_start": 1616198182393,
        "deepnote_cell_type": "code"
      },
      "source": "# Population setup\nstart = 0 # start day index\nperiod = 150 # trading period\ninitial_bank = 100.0 # Initial bank account value\nn = 40 # Number of people in one population\ntotal_days = len(A)-150 # Obtain the length of the price and A\n\n# Initialize a population\npopulation = OurPopulation(n,genome,IdentityDecoder(),OurProblem(),initial_bank)\n\n# Check the first two individual's genome in this population\nprint(\"The genome of the first 2 individual's genome\")\nprint(population.population[0].genome)\nprint(population.population[1].genome)",
      "execution_count": 11,
      "outputs": [
        {
          "name": "stdout",
          "text": "The genome of the first 2 individual's genome\n[[0.7282217664240963, 0.6311826315936483, 0.4536333582686741, 0.7056456789225337], [0.023213685010533114, 0.046114617539839364, 0.6942255943114448, 0.9821664488030253], [0.523884197785673, 0.9695596394090626, 0.7392275860949338, 0.4736542319114446], [0.007282616486809057, 0.7641757120237498, 0.6249991508204891, 0.4543055547379091], [0.917255478657726, 0.7515104828194474, 0.9303630929704778, 0.331895854004406]]\n[[0.7854259540173508, 0.5594591619657105, 0.8212135403844952, 0.49553236874079487], [0.6828316120671295, 0.3748598728011895, 0.2210654564881499, 0.5648338862404786], [0.39191291939590256, 0.9849825810650322, 0.42028799888308843, 0.8747065224825803], [0.8031479088580831, 0.0652781583357267, 0.6721420182638769, 0.8829454819409719], [0.751161595699386, 0.49708560789548095, 0.44795846995634303, 0.9774538230981983]]\n",
          "output_type": "stream"
        }
      ]
    },
    {
      "cell_type": "code",
      "metadata": {
        "tags": [],
        "cell_id": "00019-2bb63a1a-77c1-4b70-b6be-32e7225c8d07",
        "deepnote_to_be_reexecuted": false,
        "source_hash": "40ea1938",
        "execution_millis": 48,
        "execution_start": 1616198182394,
        "deepnote_cell_type": "code"
      },
      "source": "# Evaluate a population with inherited bank account\npopulation.evaluate(A, price, start, period)\nevaluation = population.fitness\n\n# Check the population's evaluation results\nprint(\"The evaluation result of the population\")\nprint(evaluation)",
      "execution_count": 12,
      "outputs": [
        {
          "name": "stdout",
          "text": "The evaluation result of the population\n[61.263120883776104, 44.26051452540954, 61.84524690883978, 92.2926654433515, -9.107720599014474, 76.55409439986292, 110.91723737782849, 212.45501398519966, 88.59386731567652, 199.43551383711738, 128.01443368145252, 95.69740510065067, -8.878697436654468, 127.34500172245056, 97.60737986664968, 131.023997172233, 117.58871677774346, 99.78267489254642, 98.33706676893854, 77.68081586684266, 171.48132135348442, 216.87087151160912, 32.7911123559091, 162.37454697979857, 89.26762593583312, 73.23462218789425, 83.86870781413661, 90.58023743779023, 90.73806032305409, 85.84586406730344, 82.8212964913156, 125.18797889676398, 82.11373607074746, 150.24765369255817, 101.78097271332396, 63.3080048967307, 43.85588866276271, 113.99318241130307, 64.27205738338932, 166.40589462716937]\n",
          "output_type": "stream"
        }
      ]
    },
    {
      "cell_type": "code",
      "metadata": {
        "tags": [],
        "cell_id": "00020-6ad09dd0-b548-4be6-9d29-91b9d2438145",
        "deepnote_to_be_reexecuted": false,
        "source_hash": "c19c7833",
        "execution_millis": 72,
        "execution_start": 1616198182438,
        "deepnote_cell_type": "code"
      },
      "source": "# Evaluate a population with initial_bank\npopulation.evaluate_i(A, price, start, period, initial_bank)\nevaluation = population.fitness\n\n# Check the population's evaluation results\nprint(\"The evaluation result of the population\")\nprint(evaluation)",
      "execution_count": 13,
      "outputs": [
        {
          "name": "stdout",
          "text": "The evaluation result of the population\n[61.263120883776104, 44.26051452540954, 61.84524690883978, 92.2926654433515, -9.107720599014474, 76.55409439986292, 110.91723737782849, 212.45501398519966, 88.59386731567652, 199.43551383711738, 128.01443368145252, 95.69740510065067, -8.878697436654468, 127.34500172245056, 97.60737986664968, 131.023997172233, 117.58871677774346, 99.78267489254642, 98.33706676893854, 77.68081586684266, 171.48132135348442, 216.87087151160912, 32.7911123559091, 162.37454697979857, 89.26762593583312, 73.23462218789425, 83.86870781413661, 90.58023743779023, 90.73806032305409, 85.84586406730344, 82.8212964913156, 125.18797889676398, 82.11373607074746, 150.24765369255817, 101.78097271332396, 63.3080048967307, 43.85588866276271, 113.99318241130307, 64.27205738338932, 166.40589462716937]\n",
          "output_type": "stream"
        }
      ]
    },
    {
      "cell_type": "code",
      "metadata": {
        "tags": [],
        "cell_id": "00022-e1010e3b-44e3-442b-be6a-6e2fb58d411d",
        "deepnote_to_be_reexecuted": false,
        "source_hash": "d223b6da",
        "execution_millis": 36,
        "execution_start": 1616198182474,
        "deepnote_cell_type": "code"
      },
      "source": "pop = [\"a\", \"b\", \"c\", \"d\", \"e\", \"f\", \"g\", \"h\", \"i\"]\nfit = [ 0,   1,   1,    0,   1,   2,   2,   0,   1]\nprint(type(pop),type(pop[1]),type(fit),type(fit[1]))\n\nfit, pop = zip(*sorted(zip(fit, pop)))\nprint(fit)\nprint(pop)",
      "execution_count": 14,
      "outputs": [
        {
          "name": "stdout",
          "text": "<class 'list'> <class 'str'> <class 'list'> <class 'int'>\n(0, 0, 0, 1, 1, 1, 1, 2, 2)\n('a', 'd', 'h', 'b', 'c', 'e', 'i', 'f', 'g')\n",
          "output_type": "stream"
        }
      ]
    },
    {
      "cell_type": "code",
      "metadata": {
        "tags": [],
        "cell_id": "00023-00caf469-6796-4719-8564-684250610d78",
        "deepnote_to_be_reexecuted": false,
        "source_hash": "9f434c13",
        "execution_millis": 5,
        "execution_start": 1616198182521,
        "deepnote_cell_type": "code"
      },
      "source": "pop = population.population\nfit = population.fitness\nprint(type(pop),type(pop[1]),type(fit),type(fit[1]))\n\ndf = pd.DataFrame({'pop':pop,'fit':fit})\ndf.sort_values(by=['fit'])\npop = df['pop'].tolist()\nfit = df['fit'].tolist()\nprint(type(pop),type(pop[1]),type(fit),type(fit[1]))\n\n# zip_list = zip(fit, pop)\n# fit, pop = sorted(zip_list, key = lambda x:x[1])[:n]\n# fit, pop = zip(*sorted(zip(fit, pop)))\n# print(fit)\n# print(pop)",
      "execution_count": 15,
      "outputs": [
        {
          "name": "stdout",
          "text": "<class 'list'> <class '__main__.OurIndividual'> <class 'list'> <class 'float'>\n<class 'list'> <class '__main__.OurIndividual'> <class 'list'> <class 'float'>\n",
          "output_type": "stream"
        }
      ]
    },
    {
      "cell_type": "code",
      "metadata": {
        "tags": [],
        "cell_id": "00015-7ab07af4-79ba-4c05-905d-8b1ca0f72b48",
        "deepnote_to_be_reexecuted": false,
        "source_hash": "4bb7c83",
        "execution_millis": 3537,
        "execution_start": 1616198182522,
        "deepnote_cell_type": "code"
      },
      "source": "# Make multiple generations\nfor i in range(0,10):\n    start = random.randint(0,total_days)\n    population.evolve(IdentityDecoder(),OurProblem(),price,start,period,initial_bank)\n    print(start,population.fitness)\n    # print(len(population.fitness))\n    # print(len(population.population))",
      "execution_count": 16,
      "outputs": [
        {
          "name": "stdout",
          "text": "4648 [6938.415411297851, 1664.1944615245566, 7605.363633142228, 16300.028620798139, -14669.10066345799, 14957.479542356536, 22819.72694822491, 60564.21739422283, 15611.999349610858, 54896.82199648334, 27865.643778014975, 17111.98253138484, -14502.346623444528, 28725.417175355684, 17459.906652412144, 34988.95102151971, 25538.399359834773, 21096.040086610607, 18153.790210416017, 15419.573255025354, 47294.87465066033, 68039.05051394369, -2360.165179050087, 39431.4515729293, 16873.285109788343, 14644.490286968961, 14508.866934703197, 18103.68940319275, 17051.641132788973, 17731.026432239985, 15283.812423708174, 30109.58217246722, 12477.427273451427, 39903.63143810962, 21381.830571858467, 7769.075919129116, 3479.5942636393524, 22953.132607152136, 8365.611603994505, 50746.58844247639]\n3945 [-1832.8534857518446, -5025.340917215835, -1919.2087467480947, 2622.888084771842, -13663.676649365429, 930.3156919295747, 6494.981719329484, 26563.039339173076, 2226.527401870032, 22952.4275841518, 8784.809692553863, 2805.5733414553843, -14363.307425825775, 8923.345880510444, 3600.05560726084, 12514.015334527481, 7205.990202866668, 5705.006053481397, 3567.8191739113427, 1644.07926039867, 18897.4399393652, 30674.750165687925, -7231.458204177797, 15752.791553510813, 2099.5539261896565, 1093.662281898116, 1898.721150329201, 3694.25487301257, 2727.921807688029, 3062.7509762168725, 1666.1729060352054, 9460.750449722465, 912.7038813514445, 15013.30387648656, 5615.657465694045, -2409.750464783579, -4413.7817898265175, 6197.8032677529, -1705.8534784168107, 21479.48560033319]\n5162 [28544.287048477796, 19668.245552496443, 32652.08331153003, 48239.96906515588, -14621.331773168184, 51393.721451980884, 59112.37829297965, 137299.12696632746, 47233.1437047864, 124991.9119923121, 73213.37822271846, 53700.62728953307, -11732.92673336235, 73891.7689496336, 45123.901156877284, 84408.15105481455, 69070.15295208192, 56081.73513169993, 52129.33150014157, 42957.85539802077, 111477.05230915999, 154150.32901269276, 12458.013201296695, 89431.13353602713, 50638.31121445272, 50090.3606346564, 43754.57088422619, 54923.02664187963, 51764.768708289695, 56411.90448713097, 52286.6601221033, 80819.86549007146, 41530.19617196726, 95451.80526216529, 57663.174954927104, 35955.67564848074, 26171.01078129629, 60570.3910237106, 37273.80160458643, 117822.70585095041]\n5399 [44878.47054001266, 30872.70492617221, 44892.059452031746, 65227.840532709866, -9694.214284985796, 65169.67864646243, 81853.29866739869, 177605.24033843455, 64324.61217759897, 161973.12554779512, 94322.84562993878, 70055.34581162117, -9408.945998430914, 97121.05296588979, 69143.97305028226, 111471.31369832765, 90141.36208994043, 79793.09252245659, 69943.7038655233, 64224.55899677985, 142491.29587226812, 191261.98499815768, 20964.631749000164, 121525.21624143812, 67217.65303888291, 63604.47801679999, 63179.83219862902, 72402.37581092119, 68883.58539665208, 70305.90963167837, 66446.68289205841, 102087.56729715168, 56855.90699615549, 122740.13843968936, 79798.76275338963, 45040.892918497186, 35328.39717562093, 83008.89581851235, 47337.17266825944, 151975.35618938814]\n712 [127.63009691382435, -388.8134723775337, 78.46493476290739, 809.8990509983068, -1749.953795432498, 530.432363600715, 1422.6448784123759, 4498.278798479386, 746.9097275891804, 3975.498696343001, 1750.2286122783173, 816.9709318038376, -1847.8476877339417, 1796.3798854268437, 991.0207864195191, 2376.1222773918503, 1510.0489811324076, 1302.9755494874316, 965.1957027676812, 681.2321895233559, 3339.9656794729945, 5172.032319283432, -749.3209494040196, 2947.2313126426347, 755.7114199611797, 540.3304529513285, 725.945480467061, 947.1625809381885, 808.2902504166876, 831.5076865469722, 643.5041759199567, 1840.9376005847955, 548.0721997226876, 2765.186697478573, 1293.1181868675374, -3.1239419264790493, -314.8396584660353, 1369.9196207752602, 118.97645201929706, 3675.0403547975247]\n4527 [10466.329449240047, 4696.23245661591, 9633.3412536017, 17342.292087732836, -10205.248228372244, 14645.510105684943, 24445.68101442482, 57381.673462125415, 16940.850685157675, 51906.57915755619, 27762.12949729734, 17739.40158873305, -11364.714419758235, 28067.69095343796, 19326.976550765903, 35105.72471840035, 25091.268070989016, 23105.481427941242, 19129.11934733536, 16552.119442492396, 44900.88111471941, 66079.2154322916, 763.7121174126921, 41219.390474459724, 17357.963904898505, 14640.617794253247, 17210.534124275502, 19050.946693522303, 17548.17585489296, 17916.273064397625, 15829.413606346556, 28728.099467909782, 14874.737004615643, 39265.590127786105, 23157.88892745146, 8735.84233893495, 5336.433948207551, 23769.669076408638, 10109.766441188121, 48966.91962367505]\n1451 [-279.0368023189117, -695.7935082531774, -308.4160298637684, 333.77771602484034, -1864.4634935395152, 41.06838079777136, 835.7284716911995, 3325.2099644316536, 277.58669664722436, 2928.5493735887517, 1126.7607064954454, 362.859621843337, -1942.9853624297318, 1147.6092028344474, 490.72268641677147, 1542.5376832314068, 907.4922988752342, 691.3642746930391, 474.35207625278264, 149.25038084809643, 2359.499354726319, 3826.3947418641424, -994.1248825976162, 2143.7068828467263, 275.476168754841, 31.738471107772977, 237.23230227146973, 399.70061835767814, 322.8655227523149, 298.83595010078335, 157.10147000706107, 1158.5990925881458, 108.65930989885226, 1882.3331962344248, 709.8715151556964, -352.71257252263285, -675.5858120561948, 823.3874635426522, -278.4193320208704, 2554.275097757982]\n1323 [-268.8747228488595, -502.86830830810965, -260.81876672123013, 108.00364769031205, -1185.814630676812, -38.36696885973451, 387.1712413004704, 1942.0593584169246, 66.43474040879501, 1671.4639163418487, 591.623981056886, 127.89054594689138, -1224.521745482976, 594.1735393581055, 168.9918723778485, 820.9035739766373, 459.1691437551861, 302.87077210917954, 178.47194210035067, -11.038633682885244, 1351.9037166583478, 2194.047830185839, -669.3490970245477, 1102.522196114881, 52.62227790953537, -40.032413823394506, 17.78292752720273, 162.07352921772085, 108.50845054214074, 123.06042452166741, 22.630790468055956, 637.8304335394788, -28.168566476726745, 1033.9433646117757, 312.4441549495366, -281.3890619173395, -462.3440153143651, 380.74836734433933, -233.67786950044743, 1491.9191672007858]\n4488 [8771.357032850257, 3605.895438875167, 7993.6190454554, 15066.814947172432, -9522.222462809834, 12524.946505428477, 21281.639707224473, 50901.61197505259, 14568.178515754818, 45820.99170283646, 24165.746992666027, 15048.288747315437, -10480.820803775865, 24488.68774173356, 16778.491349672193, 30990.639538715244, 21755.1446719654, 20012.27213611658, 16593.749533325663, 14314.234677986677, 39600.917195271184, 58476.341793462336, 13.25815071321513, 36538.871178821, 14787.671303966566, 12549.68158115321, 14586.086811268464, 16362.187975024104, 15106.564561939498, 15280.052256352714, 13465.434348150198, 25036.376547234442, 12815.244940572707, 34397.51766390323, 20086.272355669043, 7082.24782642815, 4257.290355694843, 20608.36379288011, 8390.668870665502, 43269.245047216595]\n3457 [1175.0192873089602, -1125.9471925572193, 828.0007124351251, 3959.9293225004963, -6945.273100284463, 2883.8788328851906, 6784.609256191264, 19980.317576169775, 3788.076171248382, 17715.240643169855, 7979.569670726096, 3942.237244254647, -7341.577623880988, 8254.799930108396, 4871.972104222056, 11248.919795488055, 6941.7944040718, 6311.552899380318, 4678.216722716768, 3802.2304704515936, 15034.671549546874, 23416.89580064157, -2709.503124469904, 13858.170334959656, 3894.3224572604986, 2865.9802025917197, 3967.341512190728, 4541.018573729836, 3974.408739759788, 3950.236151524824, 3211.5316355118343, 8386.67006841884, 2966.4478225556977, 12718.08827385184, 6307.4164002858215, 397.64409965326786, -895.0220404450635, 6482.942081242858, 938.2881424105151, 16616.520537720273]\n",
          "output_type": "stream"
        }
      ]
    },
    {
      "cell_type": "markdown",
      "source": "## Test",
      "metadata": {
        "cell_id": "00015-568d88d1-0a64-4771-aebf-6e59f7e09564",
        "deepnote_cell_type": "markdown"
      }
    },
    {
      "cell_type": "code",
      "metadata": {
        "cell_id": "00016-23c31ea9-edc7-4841-986c-2dd712d28999",
        "deepnote_to_be_reexecuted": false,
        "source_hash": "8ebb81e8",
        "execution_millis": 143,
        "execution_start": 1616198186065,
        "deepnote_cell_type": "code"
      },
      "source": "ind = OurIndividual([[0,0.6,0.5,0],\n                     [0,0.33,0.33,0.33],\n                     [0,0.1,1.0,0.9],\n                     [0,0.44,0.5,0.1],\n                     [0,0.1,0.2,0.7]],decoder = IdentityDecoder(), problem = OurProblem())",
      "execution_count": 17,
      "outputs": [
        {
          "output_type": "error",
          "ename": "TypeError",
          "evalue": "__init__() missing 1 required positional argument: 'initial_bank'",
          "traceback": [
            "\u001b[0;31m---------------------------------------------------------------------------\u001b[0m",
            "\u001b[0;31mTypeError\u001b[0m                                 Traceback (most recent call last)",
            "\u001b[0;32m<ipython-input-17-d9cb684b9249>\u001b[0m in \u001b[0;36m<module>\u001b[0;34m\u001b[0m\n\u001b[1;32m      3\u001b[0m                      \u001b[0;34m[\u001b[0m\u001b[0;36m0\u001b[0m\u001b[0;34m,\u001b[0m\u001b[0;36m0.1\u001b[0m\u001b[0;34m,\u001b[0m\u001b[0;36m1.0\u001b[0m\u001b[0;34m,\u001b[0m\u001b[0;36m0.9\u001b[0m\u001b[0;34m]\u001b[0m\u001b[0;34m,\u001b[0m\u001b[0;34m\u001b[0m\u001b[0;34m\u001b[0m\u001b[0m\n\u001b[1;32m      4\u001b[0m                      \u001b[0;34m[\u001b[0m\u001b[0;36m0\u001b[0m\u001b[0;34m,\u001b[0m\u001b[0;36m0.44\u001b[0m\u001b[0;34m,\u001b[0m\u001b[0;36m0.5\u001b[0m\u001b[0;34m,\u001b[0m\u001b[0;36m0.1\u001b[0m\u001b[0;34m]\u001b[0m\u001b[0;34m,\u001b[0m\u001b[0;34m\u001b[0m\u001b[0;34m\u001b[0m\u001b[0m\n\u001b[0;32m----> 5\u001b[0;31m                      [0,0.1,0.2,0.7]],decoder = IdentityDecoder(), problem = OurProblem())\n\u001b[0m",
            "\u001b[0;31mTypeError\u001b[0m: __init__() missing 1 required positional argument: 'initial_bank'"
          ]
        }
      ]
    },
    {
      "cell_type": "code",
      "metadata": {
        "cell_id": "00017-754e8c81-3435-44b7-8645-fdb4324d5a4a",
        "deepnote_to_be_reexecuted": true,
        "source_hash": "f7d67460",
        "execution_millis": 9,
        "deepnote_cell_type": "code"
      },
      "source": "ind_copy = ind.clone()\nind_copy.genome",
      "execution_count": null,
      "outputs": [
        {
          "output_type": "execute_result",
          "execution_count": 15,
          "data": {
            "text/plain": "[[0, 0.6, 0.5, 0],\n [0, 0.33, 0.33, 0.33],\n [0, 0.1, 1.0, 0.9],\n [0, 0.44, 0.5, 0.1],\n [0, 0.1, 0.2, 0.7]]"
          },
          "metadata": {}
        }
      ]
    },
    {
      "cell_type": "code",
      "metadata": {
        "cell_id": "00019-fe23cf68-660a-4f83-a765-eac2e629376f",
        "deepnote_to_be_reexecuted": true,
        "source_hash": "cd8faf0c",
        "execution_millis": 9,
        "deepnote_cell_type": "code"
      },
      "source": "ind.phenome",
      "execution_count": null,
      "outputs": [
        {
          "output_type": "execute_result",
          "execution_count": 16,
          "data": {
            "text/plain": "[[0, 0.6, 0.5, 0],\n [0, 0.33, 0.33, 0.33],\n [0, 0.1, 1.0, 0.9],\n [0, 0.44, 0.5, 0.1],\n [0, 0.1, 0.2, 0.7]]"
          },
          "metadata": {}
        }
      ]
    },
    {
      "cell_type": "code",
      "metadata": {
        "cell_id": "00020-d5d0a108-d4a1-481d-9401-efb772341f46",
        "deepnote_to_be_reexecuted": true,
        "source_hash": "61a981cd",
        "execution_millis": 14,
        "deepnote_cell_type": "code"
      },
      "source": "start = 0\nperiod = 150\ninitial_bank = 100.0\n\nind = OurIndividual(genome(),decoder = IdentityDecoder(), problem = OurProblem())\n\nprb = OurProblem()\nphenome = ind.phenome\n#B = prb.get_B(A[0],phenome)\n#B\nresult = prb.evaluate(phenome, A, price, start, period, initial_bank)\n# #ind.evaluate(A, price, start, period, initial_bank)\nresult",
      "execution_count": null,
      "outputs": [
        {
          "output_type": "execute_result",
          "execution_count": 17,
          "data": {
            "text/plain": "57.67588549683599"
          },
          "metadata": {}
        }
      ]
    },
    {
      "cell_type": "code",
      "metadata": {
        "cell_id": "00021-6952912a-3a31-4777-8c0a-16a8da5e60b4",
        "deepnote_to_be_reexecuted": true,
        "source_hash": "ebaea7e4",
        "execution_millis": 13,
        "deepnote_cell_type": "code"
      },
      "source": "evaluation = ind.evaluate(A, price, start, period, initial_bank)\nevaluation",
      "execution_count": null,
      "outputs": [
        {
          "output_type": "execute_result",
          "execution_count": 18,
          "data": {
            "text/plain": "57.67588549683599"
          },
          "metadata": {}
        }
      ]
    },
    {
      "cell_type": "code",
      "metadata": {
        "cell_id": "00022-c2833143-a3cf-44e6-94a1-f769e098c00e",
        "deepnote_to_be_reexecuted": true,
        "source_hash": "ac89355a",
        "execution_millis": 22,
        "deepnote_cell_type": "code"
      },
      "source": "# Population evaluation test\nn = 40\n\npopulation = OurIndividual.create_population(n,genome,IdentityDecoder(),OurProblem())\n#person = population[0]\npop_eval = OurIndividual.evaluate_population(population, A, price, start, period, initial_bank)\nprint(population[0].genome,pop_eval[0])",
      "execution_count": null,
      "outputs": [
        {
          "name": "stdout",
          "text": "[[0.5838051997614904, 0.5641701895878842, 0.5128389695028838, 0.6397621141106337], [0.9638862418461862, 0.8596242105555907, 0.4939514396802914, 0.6955909212172895], [0.44773097939880224, 0.9644630865533629, 0.8568435570882578, 0.27957565405573903], [0.7233942160458424, 0.5958716263330441, 0.17741332823687528, 0.30768268160988943], [0.8384733667555498, 0.2659020014798996, 0.46386152964486604, 0.5527486630606854]] 115.70349332300668\n",
          "output_type": "stream"
        },
        {
          "output_type": "error",
          "ename": "KernelInterrupted",
          "evalue": "Execution interrupted by the Jupyter kernel.",
          "traceback": [
            "\u001b[0;31m---------------------------------------------------------------------------\u001b[0m",
            "\u001b[0;31mKernelInterrupted\u001b[0m: Execution interrupted by the Jupyter kernel."
          ]
        },
        {
          "output_type": "error",
          "ename": "KernelInterrupted",
          "evalue": "Execution interrupted by the Jupyter kernel.",
          "traceback": [
            "\u001b[0;31m---------------------------------------------------------------------------\u001b[0m",
            "\u001b[0;31mKernelInterrupted\u001b[0m: Execution interrupted by the Jupyter kernel."
          ]
        }
      ]
    },
    {
      "cell_type": "code",
      "metadata": {
        "tags": [],
        "cell_id": "00027-563ebf59-2cdc-49f5-9a01-bba671a05593",
        "deepnote_to_be_reexecuted": true,
        "source_hash": "9ff1a34d",
        "execution_millis": 7,
        "deepnote_cell_type": "code"
      },
      "source": "# one part cross over test\ng1 = genome()\ng2 = genome()\ng3,g4 = one_pt_crossover(g1,g2)\nprint(g1)\nprint(g2)\nprint(g3)\nprint(g4)\ntype(g4)",
      "execution_count": null,
      "outputs": [
        {
          "name": "stdout",
          "text": "[[0.23103235876728978, 0.5445982617238986, 0.8581571774137974, 0.2886896694358234], [0.7413326821348638, 0.27558180766721163, 0.7885257713501509, 0.7356528954184759], [0.3153184934962304, 0.28926462373279616, 0.35777327122490243, 0.08147742290199456], [0.6858166293898373, 0.167990899187353, 0.13200044412707235, 0.019122244985779857], [0.8854717070961214, 0.0007295300480353317, 0.0861478594852717, 0.4627333314705582]]\n[[0.20562791657828472, 0.0616264128989884, 0.07801337131957986, 0.15181448613973225], [0.27343524237226957, 0.3639272062114314, 0.701036550706836, 0.10272435825098614], [0.9039491005087924, 0.264466641357872, 0.41503165345833526, 0.10491642989880046], [0.368498434857241, 0.3641283186728357, 0.23906919377962976, 0.5871058453865341], [0.6652575459927001, 0.48706746207732987, 0.13464718188616365, 0.5513737734885176]]\n[[0.23103236 0.54459826 0.85815718 0.28868967]\n [0.74133268 0.27558181 0.78852577 0.7356529 ]\n [0.31531849 0.26446664 0.41503165 0.08147742]\n [0.68581663 0.36412832 0.23906919 0.01912224]\n [0.88547171 0.48706746 0.13464718 0.46273333]]\n[[2.05627917e-01 6.16264129e-02 7.80133713e-02 1.51814486e-01]\n [2.73435242e-01 3.63927206e-01 7.01036551e-01 1.02724358e-01]\n [9.03949101e-01 2.89264624e-01 3.57773271e-01 1.04916430e-01]\n [3.68498435e-01 1.67990899e-01 1.32000444e-01 5.87105845e-01]\n [6.65257546e-01 7.29530048e-04 8.61478595e-02 5.51373773e-01]]\n",
          "output_type": "stream"
        },
        {
          "output_type": "execute_result",
          "execution_count": 20,
          "data": {
            "text/plain": "numpy.ndarray"
          },
          "metadata": {}
        }
      ]
    },
    {
      "cell_type": "code",
      "metadata": {
        "tags": [],
        "cell_id": "00033-75cd980a-2a20-4c8e-9236-dc0ff91cd455",
        "deepnote_to_be_reexecuted": true,
        "source_hash": "4769a361",
        "execution_millis": 258,
        "deepnote_cell_type": "code"
      },
      "source": "# evol test\ng1 = genome()\ng2 = genome()\n# Population setup\nstart = 0 # start day index\nperiod = 150 # trading period\ninitial_bank = 100.0 # Initial bank account value\nn = 40 # Number of people in one population\n\n# Initialize a population\npopulation = OurIndividual.create_population(n,genome,IdentityDecoder(),OurProblem())\nind1 = OurIndividual(g1, decoder = IdentityDecoder(), problem = OurProblem())\nind2 = OurIndividual(g2, decoder = IdentityDecoder(), problem = OurProblem())\n\n\npop2 = evol(ind1,ind2, IdentityDecoder(), OurProblem(),population, price, start, period)\n",
      "execution_count": null,
      "outputs": [
        {
          "name": "stdout",
          "text": "40\n",
          "output_type": "stream"
        }
      ]
    },
    {
      "cell_type": "code",
      "metadata": {
        "tags": [],
        "cell_id": "00029-e9df7dd6-6d9e-42f1-9294-e75378894798",
        "deepnote_to_be_reexecuted": true,
        "source_hash": "b623e53d",
        "execution_millis": 1,
        "deepnote_cell_type": "code"
      },
      "source": "",
      "execution_count": null,
      "outputs": []
    },
    {
      "cell_type": "markdown",
      "source": "<a style='text-decoration:none;line-height:16px;display:flex;color:#5B5B62;padding:10px;justify-content:end;' href='https://deepnote.com?utm_source=created-in-deepnote-cell&projectId=9433f6a9-5256-43e6-8a88-84eded61d4fc' target=\"_blank\">\n<img style='display:inline;max-height:16px;margin:0px;margin-right:7.5px;' src='data:image/svg+xml;base64,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' > </img>\nCreated in <span style='font-weight:600;margin-left:4px;'>Deepnote</span></a>",
      "metadata": {
        "tags": [],
        "created_in_deepnote_cell": true,
        "deepnote_cell_type": "markdown"
      }
    }
  ],
  "nbformat": 4,
  "nbformat_minor": 4,
  "metadata": {
    "kernelspec": {
      "display_name": "Python 3",
      "language": "python",
      "name": "python3"
    },
    "language_info": {
      "codemirror_mode": {
        "name": "ipython",
        "version": 3
      },
      "file_extension": ".py",
      "mimetype": "text/x-python",
      "name": "python",
      "nbconvert_exporter": "python",
      "pygments_lexer": "ipython3",
      "version": "3.8.5"
    },
    "deepnote_notebook_id": "5c541e75-ade3-49bb-a957-94d1954eb022",
    "deepnote": {},
    "deepnote_execution_queue": []
  }
}