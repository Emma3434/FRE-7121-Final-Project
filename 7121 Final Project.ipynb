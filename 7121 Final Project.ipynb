{
 "cells": [
  {
   "cell_type": "code",
   "execution_count": 1,
   "metadata": {},
   "outputs": [],
   "source": [
    "# import modules\n",
    "import math\n",
    "import sys\n",
    "\n",
    "from matplotlib import pyplot as plt\n",
    "import networkx as nx\n",
    "\n",
    "from leap_ec.individual import Individual\n",
    "from leap_ec.decoder import IdentityDecoder\n",
    "from leap_ec.representation import Representation\n",
    "from leap_ec.algorithm import multi_population_ea\n",
    "from leap_ec.context import context\n",
    "\n",
    "import leap_ec.ops as ops\n",
    "from leap_ec import probe\n",
    "from leap_ec.algorithm import multi_population_ea\n",
    "\n",
    "from leap_ec.real_rep.problems import SchwefelProblem\n",
    "from leap_ec.real_rep.ops import mutate_gaussian\n",
    "from leap_ec.real_rep.initializers import create_real_vector"
   ]
  },
  {
   "cell_type": "markdown",
   "metadata": {},
   "source": [
    "# Read Data"
   ]
  },
  {
   "cell_type": "code",
   "execution_count": 6,
   "metadata": {},
   "outputs": [
    {
     "ename": "FileNotFoundError",
     "evalue": "[Errno 2] No such file or directory: '..\\\\SPX_hr5aqh2\\\\SPX_1hour.txt'",
     "output_type": "error",
     "traceback": [
      "\u001b[1;31m---------------------------------------------------------------------------\u001b[0m",
      "\u001b[1;31mFileNotFoundError\u001b[0m                         Traceback (most recent call last)",
      "\u001b[1;32m<ipython-input-6-3cda285b3d77>\u001b[0m in \u001b[0;36m<module>\u001b[1;34m\u001b[0m\n\u001b[1;32m----> 1\u001b[1;33m \u001b[0mf\u001b[0m \u001b[1;33m=\u001b[0m \u001b[0mopen\u001b[0m\u001b[1;33m(\u001b[0m\u001b[1;34m\"..\\\\SPX_hr5aqh2\\SPX_1hour.txt\"\u001b[0m\u001b[1;33m,\u001b[0m \u001b[1;34m\"r\"\u001b[0m\u001b[1;33m)\u001b[0m\u001b[1;33m\u001b[0m\u001b[1;33m\u001b[0m\u001b[0m\n\u001b[0m",
      "\u001b[1;31mFileNotFoundError\u001b[0m: [Errno 2] No such file or directory: '..\\\\SPX_hr5aqh2\\\\SPX_1hour.txt'"
     ]
    }
   ],
   "source": [
    "f = open(\"..\\\\SPX_hr5aqh2\\SPX_1hour.txt\", \"r\")"
   ]
  },
  {
   "cell_type": "code",
   "execution_count": null,
   "metadata": {},
   "outputs": [],
   "source": [
    "# Number of islands\n",
    "num_islands = 2\n",
    "# Number of population on each island\n",
    "num_pop = 40\n",
    "# Amount of money to start for each individual bank account\n",
    "initial_bank = 300\n",
    "# Trading period\n",
    "trade_period = 150\n",
    "# Trading start date\n",
    "# TODO: Randomize a start date from the dataset\n",
    "# Number of people to compare at the end of generation\n",
    "num_compare = 10\n",
    "\n",
    "topology = nx.complete_graph(num_islands)\n"
   ]
  }
 ],
 "metadata": {
  "kernelspec": {
   "display_name": "Python 3",
   "language": "python",
   "name": "python3"
  },
  "language_info": {
   "codemirror_mode": {
    "name": "ipython",
    "version": 3
   },
   "file_extension": ".py",
   "mimetype": "text/x-python",
   "name": "python",
   "nbconvert_exporter": "python",
   "pygments_lexer": "ipython3",
   "version": "3.8.5"
  }
 },
 "nbformat": 4,
 "nbformat_minor": 4
}
