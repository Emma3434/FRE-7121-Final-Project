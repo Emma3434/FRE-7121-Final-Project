{
  "cells": [
    {
      "cell_type": "code",
      "metadata": {
        "cell_id": "00000-6c2d791b-ad24-4b10-8bf0-49e56645c9a4",
        "deepnote_to_be_reexecuted": false,
        "source_hash": "c5a80d38",
        "execution_millis": 931,
        "execution_start": 1615607705576,
        "deepnote_cell_type": "code"
      },
      "source": "# import modules\nimport math\nimport sys\nimport pandas as pd\nfrom matplotlib import pyplot as plt\nimport networkx as nx\n\nfrom leap_ec.individual import Individual\nfrom leap_ec.decoder import IdentityDecoder\nfrom leap_ec.representation import Representation\nfrom leap_ec.algorithm import multi_population_ea\nfrom leap_ec.context import context\n\nimport leap_ec.ops as ops\nfrom leap_ec import probe\nfrom leap_ec.algorithm import multi_population_ea\n\nfrom leap_ec.real_rep.problems import SchwefelProblem\nfrom leap_ec.real_rep.ops import mutate_gaussian\nfrom leap_ec.real_rep.initializers import create_real_vector\n\nimport yfinance as yf",
      "execution_count": null,
      "outputs": []
    },
    {
      "cell_type": "markdown",
      "source": "# Read Data",
      "metadata": {
        "cell_id": "00001-66ae4f1f-52a7-4e6d-bd82-460bd42fb8a0",
        "deepnote_cell_type": "markdown"
      }
    },
    {
      "cell_type": "code",
      "metadata": {
        "cell_id": "00002-cf51b164-3eb6-4f55-beac-47709a3872b7",
        "deepnote_to_be_reexecuted": false,
        "source_hash": "738f028",
        "execution_start": 1615607706511,
        "execution_millis": 858,
        "deepnote_cell_type": "code"
      },
      "source": "df = yf.download(\"AMZN\",period = \"max\", interval = \"1d\")\ndf['Range'] = df['High'] - df['Low']\ndf['RangeOC'] = df['Open'] - df['Adj Close']\ndf.head()",
      "execution_count": null,
      "outputs": [
        {
          "name": "stdout",
          "text": "[*********************100%***********************]  1 of 1 completed\n",
          "output_type": "stream"
        },
        {
          "output_type": "execute_result",
          "execution_count": 2,
          "data": {
            "application/vnd.deepnote.dataframe.v2+json": {
              "row_count": 5,
              "column_count": 8,
              "columns": [
                {
                  "name": "Open",
                  "dtype": "float64",
                  "stats": {
                    "unique_count": 5,
                    "nan_count": 0,
                    "min": 1.6354169845581055,
                    "max": 2.4375,
                    "histogram": [
                      {
                        "bin_start": 1.6354169845581055,
                        "bin_end": 1.715625286102295,
                        "count": 1
                      },
                      {
                        "bin_start": 1.715625286102295,
                        "bin_end": 1.7958335876464844,
                        "count": 2
                      },
                      {
                        "bin_start": 1.7958335876464844,
                        "bin_end": 1.8760418891906738,
                        "count": 0
                      },
                      {
                        "bin_start": 1.8760418891906738,
                        "bin_end": 1.9562501907348633,
                        "count": 0
                      },
                      {
                        "bin_start": 1.9562501907348633,
                        "bin_end": 2.0364584922790527,
                        "count": 1
                      },
                      {
                        "bin_start": 2.0364584922790527,
                        "bin_end": 2.116666793823242,
                        "count": 0
                      },
                      {
                        "bin_start": 2.116666793823242,
                        "bin_end": 2.1968750953674316,
                        "count": 0
                      },
                      {
                        "bin_start": 2.1968750953674316,
                        "bin_end": 2.277083396911621,
                        "count": 0
                      },
                      {
                        "bin_start": 2.277083396911621,
                        "bin_end": 2.3572916984558105,
                        "count": 0
                      },
                      {
                        "bin_start": 2.3572916984558105,
                        "bin_end": 2.4375,
                        "count": 1
                      }
                    ]
                  }
                },
                {
                  "name": "High",
                  "dtype": "float64",
                  "stats": {
                    "unique_count": 5,
                    "nan_count": 0,
                    "min": 1.6458330154418945,
                    "max": 2.5,
                    "histogram": [
                      {
                        "bin_start": 1.6458330154418945,
                        "bin_end": 1.731249713897705,
                        "count": 1
                      },
                      {
                        "bin_start": 1.731249713897705,
                        "bin_end": 1.8166664123535157,
                        "count": 2
                      },
                      {
                        "bin_start": 1.8166664123535157,
                        "bin_end": 1.9020831108093261,
                        "count": 0
                      },
                      {
                        "bin_start": 1.9020831108093261,
                        "bin_end": 1.9874998092651368,
                        "count": 1
                      },
                      {
                        "bin_start": 1.9874998092651368,
                        "bin_end": 2.0729165077209473,
                        "count": 0
                      },
                      {
                        "bin_start": 2.0729165077209473,
                        "bin_end": 2.1583332061767577,
                        "count": 0
                      },
                      {
                        "bin_start": 2.1583332061767577,
                        "bin_end": 2.243749904632568,
                        "count": 0
                      },
                      {
                        "bin_start": 2.243749904632568,
                        "bin_end": 2.329166603088379,
                        "count": 0
                      },
                      {
                        "bin_start": 2.329166603088379,
                        "bin_end": 2.4145833015441895,
                        "count": 0
                      },
                      {
                        "bin_start": 2.4145833015441895,
                        "bin_end": 2.5,
                        "count": 1
                      }
                    ]
                  }
                },
                {
                  "name": "Low",
                  "dtype": "float64",
                  "stats": {
                    "unique_count": 5,
                    "nan_count": 0,
                    "min": 1.375,
                    "max": 1.9270830154418945,
                    "histogram": [
                      {
                        "bin_start": 1.375,
                        "bin_end": 1.4302083015441895,
                        "count": 1
                      },
                      {
                        "bin_start": 1.4302083015441895,
                        "bin_end": 1.4854166030883789,
                        "count": 0
                      },
                      {
                        "bin_start": 1.4854166030883789,
                        "bin_end": 1.5406249046325684,
                        "count": 0
                      },
                      {
                        "bin_start": 1.5406249046325684,
                        "bin_end": 1.5958332061767577,
                        "count": 0
                      },
                      {
                        "bin_start": 1.5958332061767577,
                        "bin_end": 1.6510415077209473,
                        "count": 2
                      },
                      {
                        "bin_start": 1.6510415077209473,
                        "bin_end": 1.7062498092651368,
                        "count": 0
                      },
                      {
                        "bin_start": 1.7062498092651368,
                        "bin_end": 1.7614581108093261,
                        "count": 1
                      },
                      {
                        "bin_start": 1.7614581108093261,
                        "bin_end": 1.8166664123535157,
                        "count": 0
                      },
                      {
                        "bin_start": 1.8166664123535157,
                        "bin_end": 1.871874713897705,
                        "count": 0
                      },
                      {
                        "bin_start": 1.871874713897705,
                        "bin_end": 1.9270830154418945,
                        "count": 1
                      }
                    ]
                  }
                },
                {
                  "name": "Close",
                  "dtype": "float64",
                  "stats": {
                    "unique_count": 5,
                    "nan_count": 0,
                    "min": 1.4270830154418945,
                    "max": 1.9583330154418945,
                    "histogram": [
                      {
                        "bin_start": 1.4270830154418945,
                        "bin_end": 1.4802080154418946,
                        "count": 1
                      },
                      {
                        "bin_start": 1.4802080154418946,
                        "bin_end": 1.5333330154418945,
                        "count": 0
                      },
                      {
                        "bin_start": 1.5333330154418945,
                        "bin_end": 1.5864580154418946,
                        "count": 0
                      },
                      {
                        "bin_start": 1.5864580154418946,
                        "bin_end": 1.6395830154418944,
                        "count": 1
                      },
                      {
                        "bin_start": 1.6395830154418944,
                        "bin_end": 1.6927080154418945,
                        "count": 0
                      },
                      {
                        "bin_start": 1.6927080154418945,
                        "bin_end": 1.7458330154418946,
                        "count": 2
                      },
                      {
                        "bin_start": 1.7458330154418946,
                        "bin_end": 1.7989580154418945,
                        "count": 0
                      },
                      {
                        "bin_start": 1.7989580154418945,
                        "bin_end": 1.8520830154418946,
                        "count": 0
                      },
                      {
                        "bin_start": 1.8520830154418946,
                        "bin_end": 1.9052080154418944,
                        "count": 0
                      },
                      {
                        "bin_start": 1.9052080154418944,
                        "bin_end": 1.9583330154418945,
                        "count": 1
                      }
                    ]
                  }
                },
                {
                  "name": "Adj Close",
                  "dtype": "float64",
                  "stats": {
                    "unique_count": 5,
                    "nan_count": 0,
                    "min": 1.4270830154418945,
                    "max": 1.9583330154418945,
                    "histogram": [
                      {
                        "bin_start": 1.4270830154418945,
                        "bin_end": 1.4802080154418946,
                        "count": 1
                      },
                      {
                        "bin_start": 1.4802080154418946,
                        "bin_end": 1.5333330154418945,
                        "count": 0
                      },
                      {
                        "bin_start": 1.5333330154418945,
                        "bin_end": 1.5864580154418946,
                        "count": 0
                      },
                      {
                        "bin_start": 1.5864580154418946,
                        "bin_end": 1.6395830154418944,
                        "count": 1
                      },
                      {
                        "bin_start": 1.6395830154418944,
                        "bin_end": 1.6927080154418945,
                        "count": 0
                      },
                      {
                        "bin_start": 1.6927080154418945,
                        "bin_end": 1.7458330154418946,
                        "count": 2
                      },
                      {
                        "bin_start": 1.7458330154418946,
                        "bin_end": 1.7989580154418945,
                        "count": 0
                      },
                      {
                        "bin_start": 1.7989580154418945,
                        "bin_end": 1.8520830154418946,
                        "count": 0
                      },
                      {
                        "bin_start": 1.8520830154418946,
                        "bin_end": 1.9052080154418944,
                        "count": 0
                      },
                      {
                        "bin_start": 1.9052080154418944,
                        "bin_end": 1.9583330154418945,
                        "count": 1
                      }
                    ]
                  }
                },
                {
                  "name": "Volume",
                  "dtype": "int64",
                  "stats": {
                    "unique_count": 5,
                    "nan_count": 0,
                    "min": 5467200,
                    "max": 72156000,
                    "histogram": [
                      {
                        "bin_start": 5467200,
                        "bin_end": 12136080,
                        "count": 2
                      },
                      {
                        "bin_start": 12136080,
                        "bin_end": 18804960,
                        "count": 1
                      },
                      {
                        "bin_start": 18804960,
                        "bin_end": 25473840,
                        "count": 1
                      },
                      {
                        "bin_start": 25473840,
                        "bin_end": 32142720,
                        "count": 0
                      },
                      {
                        "bin_start": 32142720,
                        "bin_end": 38811600,
                        "count": 0
                      },
                      {
                        "bin_start": 38811600,
                        "bin_end": 45480480,
                        "count": 0
                      },
                      {
                        "bin_start": 45480480,
                        "bin_end": 52149360,
                        "count": 0
                      },
                      {
                        "bin_start": 52149360,
                        "bin_end": 58818240,
                        "count": 0
                      },
                      {
                        "bin_start": 58818240,
                        "bin_end": 65487120,
                        "count": 0
                      },
                      {
                        "bin_start": 65487120,
                        "bin_end": 72156000,
                        "count": 1
                      }
                    ]
                  }
                },
                {
                  "name": "Range",
                  "dtype": "float64",
                  "stats": {
                    "unique_count": 5,
                    "nan_count": 0,
                    "min": 0.11458301544189453,
                    "max": 0.5729169845581055,
                    "histogram": [
                      {
                        "bin_start": 0.11458301544189453,
                        "bin_end": 0.16041641235351561,
                        "count": 2
                      },
                      {
                        "bin_start": 0.16041641235351561,
                        "bin_end": 0.20624980926513672,
                        "count": 0
                      },
                      {
                        "bin_start": 0.20624980926513672,
                        "bin_end": 0.25208320617675783,
                        "count": 0
                      },
                      {
                        "bin_start": 0.25208320617675783,
                        "bin_end": 0.2979166030883789,
                        "count": 2
                      },
                      {
                        "bin_start": 0.2979166030883789,
                        "bin_end": 0.34375,
                        "count": 0
                      },
                      {
                        "bin_start": 0.34375,
                        "bin_end": 0.38958339691162114,
                        "count": 0
                      },
                      {
                        "bin_start": 0.38958339691162114,
                        "bin_end": 0.4354167938232422,
                        "count": 0
                      },
                      {
                        "bin_start": 0.4354167938232422,
                        "bin_end": 0.4812501907348633,
                        "count": 0
                      },
                      {
                        "bin_start": 0.4812501907348633,
                        "bin_end": 0.5270835876464843,
                        "count": 0
                      },
                      {
                        "bin_start": 0.5270835876464843,
                        "bin_end": 0.5729169845581055,
                        "count": 1
                      }
                    ]
                  }
                },
                {
                  "name": "RangeOC",
                  "dtype": "float64",
                  "stats": {
                    "unique_count": 5,
                    "nan_count": 0,
                    "min": 0.05208396911621094,
                    "max": 0.47916698455810547,
                    "histogram": [
                      {
                        "bin_start": 0.05208396911621094,
                        "bin_end": 0.09479227066040039,
                        "count": 2
                      },
                      {
                        "bin_start": 0.09479227066040039,
                        "bin_end": 0.13750057220458983,
                        "count": 0
                      },
                      {
                        "bin_start": 0.13750057220458983,
                        "bin_end": 0.1802088737487793,
                        "count": 0
                      },
                      {
                        "bin_start": 0.1802088737487793,
                        "bin_end": 0.22291717529296876,
                        "count": 1
                      },
                      {
                        "bin_start": 0.22291717529296876,
                        "bin_end": 0.2656254768371582,
                        "count": 1
                      },
                      {
                        "bin_start": 0.2656254768371582,
                        "bin_end": 0.3083337783813477,
                        "count": 0
                      },
                      {
                        "bin_start": 0.3083337783813477,
                        "bin_end": 0.3510420799255371,
                        "count": 0
                      },
                      {
                        "bin_start": 0.3510420799255371,
                        "bin_end": 0.3937503814697266,
                        "count": 0
                      },
                      {
                        "bin_start": 0.3937503814697266,
                        "bin_end": 0.43645868301391605,
                        "count": 0
                      },
                      {
                        "bin_start": 0.43645868301391605,
                        "bin_end": 0.47916698455810547,
                        "count": 1
                      }
                    ]
                  }
                },
                {
                  "name": "_deepnote_index_column",
                  "dtype": "datetime64[ns]"
                }
              ],
              "rows_top": [
                {
                  "Open": 2.4375,
                  "High": 2.5,
                  "Low": 1.9270830154418945,
                  "Close": 1.9583330154418945,
                  "Adj Close": 1.9583330154418945,
                  "Volume": 72156000,
                  "Range": 0.5729169845581055,
                  "RangeOC": 0.47916698455810547,
                  "_deepnote_index_column": "1997-05-15T00:00:00.000000"
                },
                {
                  "Open": 1.96875,
                  "High": 1.9791669845581055,
                  "Low": 1.7083330154418945,
                  "Close": 1.7291669845581055,
                  "Adj Close": 1.7291669845581055,
                  "Volume": 14700000,
                  "Range": 0.27083396911621094,
                  "RangeOC": 0.23958301544189453,
                  "_deepnote_index_column": "1997-05-16T00:00:00.000000"
                },
                {
                  "Open": 1.7604169845581055,
                  "High": 1.7708330154418945,
                  "Low": 1.625,
                  "Close": 1.7083330154418945,
                  "Adj Close": 1.7083330154418945,
                  "Volume": 6106800,
                  "Range": 0.14583301544189453,
                  "RangeOC": 0.05208396911621094,
                  "_deepnote_index_column": "1997-05-19T00:00:00.000000"
                },
                {
                  "Open": 1.7291669845581055,
                  "High": 1.75,
                  "Low": 1.6354169845581055,
                  "Close": 1.6354169845581055,
                  "Adj Close": 1.6354169845581055,
                  "Volume": 5467200,
                  "Range": 0.11458301544189453,
                  "RangeOC": 0.09375,
                  "_deepnote_index_column": "1997-05-20T00:00:00.000000"
                },
                {
                  "Open": 1.6354169845581055,
                  "High": 1.6458330154418945,
                  "Low": 1.375,
                  "Close": 1.4270830154418945,
                  "Adj Close": 1.4270830154418945,
                  "Volume": 18853200,
                  "Range": 0.27083301544189453,
                  "RangeOC": 0.20833396911621094,
                  "_deepnote_index_column": "1997-05-21T00:00:00.000000"
                }
              ],
              "rows_bottom": null
            },
            "text/plain": "                Open      High       Low     Close  Adj Close    Volume  \\\nDate                                                                      \n1997-05-15  2.437500  2.500000  1.927083  1.958333   1.958333  72156000   \n1997-05-16  1.968750  1.979167  1.708333  1.729167   1.729167  14700000   \n1997-05-19  1.760417  1.770833  1.625000  1.708333   1.708333   6106800   \n1997-05-20  1.729167  1.750000  1.635417  1.635417   1.635417   5467200   \n1997-05-21  1.635417  1.645833  1.375000  1.427083   1.427083  18853200   \n\n               Range   RangeOC  \nDate                            \n1997-05-15  0.572917  0.479167  \n1997-05-16  0.270834  0.239583  \n1997-05-19  0.145833  0.052084  \n1997-05-20  0.114583  0.093750  \n1997-05-21  0.270833  0.208334  ",
            "text/html": "<div>\n<style scoped>\n    .dataframe tbody tr th:only-of-type {\n        vertical-align: middle;\n    }\n\n    .dataframe tbody tr th {\n        vertical-align: top;\n    }\n\n    .dataframe thead th {\n        text-align: right;\n    }\n</style>\n<table border=\"1\" class=\"dataframe\">\n  <thead>\n    <tr style=\"text-align: right;\">\n      <th></th>\n      <th>Open</th>\n      <th>High</th>\n      <th>Low</th>\n      <th>Close</th>\n      <th>Adj Close</th>\n      <th>Volume</th>\n      <th>Range</th>\n      <th>RangeOC</th>\n    </tr>\n    <tr>\n      <th>Date</th>\n      <th></th>\n      <th></th>\n      <th></th>\n      <th></th>\n      <th></th>\n      <th></th>\n      <th></th>\n      <th></th>\n    </tr>\n  </thead>\n  <tbody>\n    <tr>\n      <th>1997-05-15</th>\n      <td>2.437500</td>\n      <td>2.500000</td>\n      <td>1.927083</td>\n      <td>1.958333</td>\n      <td>1.958333</td>\n      <td>72156000</td>\n      <td>0.572917</td>\n      <td>0.479167</td>\n    </tr>\n    <tr>\n      <th>1997-05-16</th>\n      <td>1.968750</td>\n      <td>1.979167</td>\n      <td>1.708333</td>\n      <td>1.729167</td>\n      <td>1.729167</td>\n      <td>14700000</td>\n      <td>0.270834</td>\n      <td>0.239583</td>\n    </tr>\n    <tr>\n      <th>1997-05-19</th>\n      <td>1.760417</td>\n      <td>1.770833</td>\n      <td>1.625000</td>\n      <td>1.708333</td>\n      <td>1.708333</td>\n      <td>6106800</td>\n      <td>0.145833</td>\n      <td>0.052084</td>\n    </tr>\n    <tr>\n      <th>1997-05-20</th>\n      <td>1.729167</td>\n      <td>1.750000</td>\n      <td>1.635417</td>\n      <td>1.635417</td>\n      <td>1.635417</td>\n      <td>5467200</td>\n      <td>0.114583</td>\n      <td>0.093750</td>\n    </tr>\n    <tr>\n      <th>1997-05-21</th>\n      <td>1.635417</td>\n      <td>1.645833</td>\n      <td>1.375000</td>\n      <td>1.427083</td>\n      <td>1.427083</td>\n      <td>18853200</td>\n      <td>0.270833</td>\n      <td>0.208334</td>\n    </tr>\n  </tbody>\n</table>\n</div>"
          },
          "metadata": {}
        }
      ]
    },
    {
      "cell_type": "markdown",
      "source": "# Identify trend day and features day",
      "metadata": {
        "cell_id": "00003-e4aa838a-e306-4d9c-986e-ecc1a47a7ac3",
        "deepnote_cell_type": "markdown"
      }
    },
    {
      "cell_type": "code",
      "metadata": {
        "cell_id": "00004-197313e1-b561-42d1-a52a-d3cf73a16fde",
        "deepnote_to_be_reexecuted": false,
        "source_hash": "24617ff3",
        "execution_start": 1615607707375,
        "execution_millis": 13,
        "deepnote_cell_type": "code"
      },
      "source": "# Up and Down trend day\ndf.loc[(df['Open'] <= df['Low']+0.1*df['Range']) & (df['Adj Close'] >= df['High']-0.2*df['Range']), 'Up_Trend'] = 1\ndf.loc[(df['Open'] >= df['High']-0.1*df['Range']) & (df['Adj Close'] <= df['High']+0.2*df['Range']), 'Down_Trend'] = 1\ndf['Up_Trend'] = df['Up_Trend'].fillna(0)\ndf['Down_Trend'] = df['Down_Trend'].fillna(0)",
      "execution_count": null,
      "outputs": []
    },
    {
      "cell_type": "code",
      "metadata": {
        "cell_id": "00005-1cb38991-3340-4511-810b-e5bdd5dda63a",
        "deepnote_to_be_reexecuted": false,
        "source_hash": "15d9a0e7",
        "execution_start": 1615607707403,
        "execution_millis": 42,
        "deepnote_cell_type": "code"
      },
      "source": "# NRk\nfor i in range(2,8):\n    df['Previous{k}'.format(k = i)] = df['Range'].rolling(i).min().shift(i-1)\n    df.loc[df['Range'] <= df['Previous{k}'.format(k = i)], 'NR{k}'.format(k = i)] = 1\n    df = df.drop(['Previous{k}'.format(k = i)], axis=1)\n    df['NR{k}'.format(k = i)] = df['NR{k}'.format(k = i)].fillna(0)",
      "execution_count": null,
      "outputs": []
    },
    {
      "cell_type": "code",
      "metadata": {
        "cell_id": "00006-078860c7-4210-46a6-82de-a1fe6a7c0022",
        "deepnote_to_be_reexecuted": false,
        "source_hash": "14099e2c",
        "execution_start": 1615607707448,
        "execution_millis": 4,
        "deepnote_cell_type": "code"
      },
      "source": "# DOJI\n# TODO: What does x effect? x: a small percentage of the range\nx = 0.05\ndf.loc[df['RangeOC'].abs() <= x*df['Range'], 'DOJI'] = 1\ndf['DOJI'] = df['DOJI'].fillna(0)",
      "execution_count": null,
      "outputs": []
    },
    {
      "cell_type": "code",
      "metadata": {
        "cell_id": "00007-51977b01-9606-4e4f-8c80-c37d2b8cc25b",
        "deepnote_to_be_reexecuted": false,
        "source_hash": "1121a1cb",
        "execution_start": 1615607707501,
        "execution_millis": 44,
        "deepnote_cell_type": "code"
      },
      "source": "# Hook day\nfor delta in range(0, 11):\n    df.loc[df['Open'].shift(-1) < df['Low']-delta, 'Up_Hook{d}'.format(d=delta)] = 1\n    df.loc[df['Open'].shift(-1) > df['High']+delta, 'Down_Hook{d}'.format(d=delta)] = 1\n    df['Up_Hook{d}'.format(d=delta)] = df['Up_Hook{d}'.format(d=delta)].fillna(0)\n    df['Down_Hook{d}'.format(d=delta)] = df['Down_Hook{d}'.format(d=delta)].fillna(0)",
      "execution_count": null,
      "outputs": []
    },
    {
      "cell_type": "markdown",
      "source": "# Features day membership functions",
      "metadata": {
        "cell_id": "00008-8ad45008-fbe5-4231-b388-1ce5c34e39e3",
        "deepnote_cell_type": "markdown"
      }
    },
    {
      "cell_type": "code",
      "metadata": {
        "cell_id": "00009-262f9809-0712-4e29-8fb7-425e70559eb8",
        "deepnote_to_be_reexecuted": false,
        "source_hash": "17b1ac1e",
        "execution_start": 1615607707545,
        "execution_millis": 96,
        "deepnote_cell_type": "code"
      },
      "source": "# NRk membership function\nks = [4,6,7]\ncs = [1/2,1/3,1/3]\nv_mins = [2,3,4]\nv_maxs = [4,6,7]\n\nfor i in range(0,len(ks)):\n    # Generate other parameters in the function\n    df['D{k}'.format(k = ks[i])] = df['NR{k}'.format(k = ks[i])].shift(1).rolling(ks[i]).sum()\n    df['~R{k}'.format(k = ks[i])] = df['Range'].shift(1).rolling(ks[i]).max()\n    df['eta{k}'.format(k = ks[i])] = (df['~R{k}'.format(k = ks[i])]-df['Range'])/df['~R{k}'.format(k = ks[i])]\n    df['NR_x{k}'.format(k = ks[i])] = df['D{k}'.format(k = ks[i])] + df['eta{k}'.format(k = ks[i])]\n    # Conditioinal membership function\n    df.loc[df['NR_x{k}'.format(k = ks[i])] < v_mins[i], 'NR{k}_membership'.format(k = ks[i])] = 0\n    df.loc[(df['NR_x{k}'.format(k = ks[i])] >= v_mins[i]) & (df['NR_x{k}'.format(k = ks[i])] < v_maxs[i]), \n           'NR{k}_membership'.format(k = ks[i])] = cs[i]*(df['NR_x{k}'.format(k = ks[i])] - v_mins[i])\n    df.loc[df['NR_x{k}'.format(k = ks[i])] >= v_maxs[i], 'NR{k}_membership'.format(k = ks[i])] = 1\n    #Drop unecessary columns\n    df = df.drop(['D{k}'.format(k = ks[i])], axis=1)\n    df = df.drop(['~R{k}'.format(k = ks[i])], axis=1)\n    df = df.drop(['eta{k}'.format(k = ks[i])], axis=1)\n    df = df.drop(['NR_x{k}'.format(k = ks[i])], axis=1)\n    \n#df[['Range','NR4','D4','~R4','eta4','NR_x4']].tail(10)\n#df[df['NR4_membership'] != 0]",
      "execution_count": null,
      "outputs": []
    },
    {
      "cell_type": "code",
      "metadata": {
        "cell_id": "00010-0663613c-5490-48f6-84f0-71edca8643e8",
        "deepnote_to_be_reexecuted": false,
        "source_hash": "bc15a0e1",
        "execution_start": 1615607707650,
        "execution_millis": 23,
        "deepnote_cell_type": "code"
      },
      "source": "# DOJI membership function\nrhos = [0.05,0.10,0.15,0.20,0.25,0.30]\nfor rho in rhos:\n    df.loc[(df['RangeOC'] >= 0) & (df['RangeOC']<= 2), 'DOJI{r}'.format(r = rho) ] = 1 - (df['RangeOC']/rho)\n    df['DOJI{r}_membership'.format(r = rho)] = df['DOJI{r}'.format(r = rho)].fillna(0)",
      "execution_count": null,
      "outputs": []
    },
    {
      "cell_type": "code",
      "metadata": {
        "cell_id": "00011-5e9a8fc8-b4f3-4c5f-9b2b-8b112286fd15",
        "deepnote_to_be_reexecuted": false,
        "source_hash": "a85481b8",
        "execution_start": 1615607707680,
        "execution_millis": 152,
        "deepnote_cell_type": "code"
      },
      "source": "# Hook day membership function\nfor delta in range(0, 11):\n    # Generate other parameters in the function\n    df.loc[(df['Up_Hook{d}'.format(d=delta)] == 1), 'Hook{d}_x'.format(d=delta)] = df['Low']-delta-df['Open'].shift(1)\n    df.loc[(df['Down_Hook{d}'.format(d=delta)] == 1), 'Hook{d}_x'.format(d=delta)] = df['Open'].shift(1)-delta-df['High']\n    # Conditioinal membership function\n    df.loc[(df['Hook{d}_x'.format(d=delta)] < -1/2), 'Hook{d}_membership'.format(d=delta)] = 0\n    df.loc[(df['Hook{d}_x'.format(d=delta)] >= -1/2) & (df['Hook{d}_x'.format(d=delta)] < 0), \n           'Hook{d}_membership'.format(d=delta)] = 2*(df['Hook{d}_x'.format(d=delta)] + 0.5)\n    df.loc[(df['Hook{d}_x'.format(d=delta)] >= 0), 'Hook{d}_membership'.format(d=delta)] = 1\n    \n#df[(df['Hook2_membership']>0)&(df['Hook2_membership']!=1)]",
      "execution_count": null,
      "outputs": []
    },
    {
      "cell_type": "code",
      "metadata": {
        "tags": [],
        "cell_id": "00012-8468c1a6-1398-415c-9ab1-e2e86ef29360",
        "deepnote_to_be_reexecuted": false,
        "source_hash": "f804c160",
        "execution_start": 1615607707835,
        "execution_millis": 350,
        "deepnote_cell_type": "code"
      },
      "source": "df",
      "execution_count": null,
      "outputs": [
        {
          "output_type": "execute_result",
          "execution_count": 10,
          "data": {
            "application/vnd.deepnote.dataframe.v2+json": {
              "row_count": 5996,
              "column_count": 76,
              "columns": [
                {
                  "name": "Open",
                  "dtype": "float64",
                  "stats": {
                    "unique_count": 5307,
                    "nan_count": 0,
                    "min": 1.40625,
                    "max": 3547,
                    "histogram": [
                      {
                        "bin_start": 1.40625,
                        "bin_end": 355.965625,
                        "count": 4367
                      },
                      {
                        "bin_start": 355.965625,
                        "bin_end": 710.525,
                        "count": 424
                      },
                      {
                        "bin_start": 710.525,
                        "bin_end": 1065.084375,
                        "count": 357
                      },
                      {
                        "bin_start": 1065.084375,
                        "bin_end": 1419.64375,
                        "count": 76
                      },
                      {
                        "bin_start": 1419.64375,
                        "bin_end": 1774.203125,
                        "count": 261
                      },
                      {
                        "bin_start": 1774.203125,
                        "bin_end": 2128.7625,
                        "count": 273
                      },
                      {
                        "bin_start": 2128.7625,
                        "bin_end": 2483.321875,
                        "count": 44
                      },
                      {
                        "bin_start": 2483.321875,
                        "bin_end": 2837.88125,
                        "count": 19
                      },
                      {
                        "bin_start": 2837.88125,
                        "bin_end": 3192.4406249999997,
                        "count": 97
                      },
                      {
                        "bin_start": 3192.4406249999997,
                        "bin_end": 3547,
                        "count": 78
                      }
                    ]
                  }
                },
                {
                  "name": "High",
                  "dtype": "float64",
                  "stats": {
                    "unique_count": 5250,
                    "nan_count": 0,
                    "min": 1.4479169845581055,
                    "max": 3552.25,
                    "histogram": [
                      {
                        "bin_start": 1.4479169845581055,
                        "bin_end": 356.5281252861023,
                        "count": 4357
                      },
                      {
                        "bin_start": 356.5281252861023,
                        "bin_end": 711.6083335876465,
                        "count": 429
                      },
                      {
                        "bin_start": 711.6083335876465,
                        "bin_end": 1066.6885418891907,
                        "count": 361
                      },
                      {
                        "bin_start": 1066.6885418891907,
                        "bin_end": 1421.7687501907349,
                        "count": 70
                      },
                      {
                        "bin_start": 1421.7687501907349,
                        "bin_end": 1776.848958492279,
                        "count": 245
                      },
                      {
                        "bin_start": 1776.848958492279,
                        "bin_end": 2131.9291667938232,
                        "count": 293
                      },
                      {
                        "bin_start": 2131.9291667938232,
                        "bin_end": 2487.0093750953674,
                        "count": 43
                      },
                      {
                        "bin_start": 2487.0093750953674,
                        "bin_end": 2842.0895833969116,
                        "count": 22
                      },
                      {
                        "bin_start": 2842.0895833969116,
                        "bin_end": 3197.169791698456,
                        "count": 79
                      },
                      {
                        "bin_start": 3197.169791698456,
                        "bin_end": 3552.25,
                        "count": 97
                      }
                    ]
                  }
                },
                {
                  "name": "Low",
                  "dtype": "float64",
                  "stats": {
                    "unique_count": 5254,
                    "nan_count": 0,
                    "min": 1.3125,
                    "max": 3486.68994140625,
                    "histogram": [
                      {
                        "bin_start": 1.3125,
                        "bin_end": 349.850244140625,
                        "count": 4365
                      },
                      {
                        "bin_start": 349.850244140625,
                        "bin_end": 698.38798828125,
                        "count": 421
                      },
                      {
                        "bin_start": 698.38798828125,
                        "bin_end": 1046.9257324218752,
                        "count": 362
                      },
                      {
                        "bin_start": 1046.9257324218752,
                        "bin_end": 1395.4634765625,
                        "count": 79
                      },
                      {
                        "bin_start": 1395.4634765625,
                        "bin_end": 1744.001220703125,
                        "count": 238
                      },
                      {
                        "bin_start": 1744.001220703125,
                        "bin_end": 2092.5389648437504,
                        "count": 293
                      },
                      {
                        "bin_start": 2092.5389648437504,
                        "bin_end": 2441.0767089843753,
                        "count": 39
                      },
                      {
                        "bin_start": 2441.0767089843753,
                        "bin_end": 2789.614453125,
                        "count": 24
                      },
                      {
                        "bin_start": 2789.614453125,
                        "bin_end": 3138.152197265625,
                        "count": 90
                      },
                      {
                        "bin_start": 3138.152197265625,
                        "bin_end": 3486.68994140625,
                        "count": 85
                      }
                    ]
                  }
                },
                {
                  "name": "Close",
                  "dtype": "float64",
                  "stats": {
                    "unique_count": 5385,
                    "nan_count": 0,
                    "min": 1.3958330154418945,
                    "max": 3531.449951171875,
                    "histogram": [
                      {
                        "bin_start": 1.3958330154418945,
                        "bin_end": 354.4012448310852,
                        "count": 4359
                      },
                      {
                        "bin_start": 354.4012448310852,
                        "bin_end": 707.4066566467285,
                        "count": 428
                      },
                      {
                        "bin_start": 707.4066566467285,
                        "bin_end": 1060.4120684623717,
                        "count": 361
                      },
                      {
                        "bin_start": 1060.4120684623717,
                        "bin_end": 1413.417480278015,
                        "count": 74
                      },
                      {
                        "bin_start": 1413.417480278015,
                        "bin_end": 1766.4228920936584,
                        "count": 251
                      },
                      {
                        "bin_start": 1766.4228920936584,
                        "bin_end": 2119.4283039093016,
                        "count": 283
                      },
                      {
                        "bin_start": 2119.4283039093016,
                        "bin_end": 2472.433715724945,
                        "count": 43
                      },
                      {
                        "bin_start": 2472.433715724945,
                        "bin_end": 2825.4391275405883,
                        "count": 21
                      },
                      {
                        "bin_start": 2825.4391275405883,
                        "bin_end": 3178.4445393562314,
                        "count": 93
                      },
                      {
                        "bin_start": 3178.4445393562314,
                        "bin_end": 3531.449951171875,
                        "count": 83
                      }
                    ]
                  }
                },
                {
                  "name": "Adj Close",
                  "dtype": "float64",
                  "stats": {
                    "unique_count": 5385,
                    "nan_count": 0,
                    "min": 1.3958330154418945,
                    "max": 3531.449951171875,
                    "histogram": [
                      {
                        "bin_start": 1.3958330154418945,
                        "bin_end": 354.4012448310852,
                        "count": 4359
                      },
                      {
                        "bin_start": 354.4012448310852,
                        "bin_end": 707.4066566467285,
                        "count": 428
                      },
                      {
                        "bin_start": 707.4066566467285,
                        "bin_end": 1060.4120684623717,
                        "count": 361
                      },
                      {
                        "bin_start": 1060.4120684623717,
                        "bin_end": 1413.417480278015,
                        "count": 74
                      },
                      {
                        "bin_start": 1413.417480278015,
                        "bin_end": 1766.4228920936584,
                        "count": 251
                      },
                      {
                        "bin_start": 1766.4228920936584,
                        "bin_end": 2119.4283039093016,
                        "count": 283
                      },
                      {
                        "bin_start": 2119.4283039093016,
                        "bin_end": 2472.433715724945,
                        "count": 43
                      },
                      {
                        "bin_start": 2472.433715724945,
                        "bin_end": 2825.4391275405883,
                        "count": 21
                      },
                      {
                        "bin_start": 2825.4391275405883,
                        "bin_end": 3178.4445393562314,
                        "count": 93
                      },
                      {
                        "bin_start": 3178.4445393562314,
                        "bin_end": 3531.449951171875,
                        "count": 83
                      }
                    ]
                  }
                },
                {
                  "name": "Volume",
                  "dtype": "int64",
                  "stats": {
                    "unique_count": 5831,
                    "nan_count": 0,
                    "min": 487200,
                    "max": 104329200,
                    "histogram": [
                      {
                        "bin_start": 487200,
                        "bin_end": 10871400,
                        "count": 5110
                      },
                      {
                        "bin_start": 10871400,
                        "bin_end": 21255600,
                        "count": 639
                      },
                      {
                        "bin_start": 21255600,
                        "bin_end": 31639800,
                        "count": 139
                      },
                      {
                        "bin_start": 31639800,
                        "bin_end": 42024000,
                        "count": 58
                      },
                      {
                        "bin_start": 42024000,
                        "bin_end": 52408200,
                        "count": 25
                      },
                      {
                        "bin_start": 52408200,
                        "bin_end": 62792400,
                        "count": 12
                      },
                      {
                        "bin_start": 62792400,
                        "bin_end": 73176600,
                        "count": 8
                      },
                      {
                        "bin_start": 73176600,
                        "bin_end": 83560800,
                        "count": 3
                      },
                      {
                        "bin_start": 83560800,
                        "bin_end": 93945000,
                        "count": 0
                      },
                      {
                        "bin_start": 93945000,
                        "bin_end": 104329200,
                        "count": 2
                      }
                    ]
                  }
                },
                {
                  "name": "Range",
                  "dtype": "float64",
                  "stats": {
                    "unique_count": 3257,
                    "nan_count": 0,
                    "min": 0.015625,
                    "max": 275.900146484375,
                    "histogram": [
                      {
                        "bin_start": 0.015625,
                        "bin_end": 27.6040771484375,
                        "count": 5414
                      },
                      {
                        "bin_start": 27.6040771484375,
                        "bin_end": 55.192529296875,
                        "count": 309
                      },
                      {
                        "bin_start": 55.192529296875,
                        "bin_end": 82.7809814453125,
                        "count": 145
                      },
                      {
                        "bin_start": 82.7809814453125,
                        "bin_end": 110.36943359375,
                        "count": 70
                      },
                      {
                        "bin_start": 110.36943359375,
                        "bin_end": 137.9578857421875,
                        "count": 40
                      },
                      {
                        "bin_start": 137.9578857421875,
                        "bin_end": 165.546337890625,
                        "count": 8
                      },
                      {
                        "bin_start": 165.546337890625,
                        "bin_end": 193.1347900390625,
                        "count": 6
                      },
                      {
                        "bin_start": 193.1347900390625,
                        "bin_end": 220.7232421875,
                        "count": 1
                      },
                      {
                        "bin_start": 220.7232421875,
                        "bin_end": 248.31169433593752,
                        "count": 1
                      },
                      {
                        "bin_start": 248.31169433593752,
                        "bin_end": 275.900146484375,
                        "count": 2
                      }
                    ]
                  }
                },
                {
                  "name": "RangeOC",
                  "dtype": "float64",
                  "stats": {
                    "unique_count": 3549,
                    "nan_count": 0,
                    "min": -196.64013671875,
                    "max": 147.06005859375,
                    "histogram": [
                      {
                        "bin_start": -196.64013671875,
                        "bin_end": -162.2701171875,
                        "count": 1
                      },
                      {
                        "bin_start": -162.2701171875,
                        "bin_end": -127.90009765625,
                        "count": 1
                      },
                      {
                        "bin_start": -127.90009765625,
                        "bin_end": -93.53007812499999,
                        "count": 6
                      },
                      {
                        "bin_start": -93.53007812499999,
                        "bin_end": -59.160058593749994,
                        "count": 32
                      },
                      {
                        "bin_start": -59.160058593749994,
                        "bin_end": -24.7900390625,
                        "count": 113
                      },
                      {
                        "bin_start": -24.7900390625,
                        "bin_end": 9.579980468750023,
                        "count": 5463
                      },
                      {
                        "bin_start": 9.579980468750023,
                        "bin_end": 43.95000000000002,
                        "count": 295
                      },
                      {
                        "bin_start": 43.95000000000002,
                        "bin_end": 78.32001953125001,
                        "count": 56
                      },
                      {
                        "bin_start": 78.32001953125001,
                        "bin_end": 112.69003906250003,
                        "count": 23
                      },
                      {
                        "bin_start": 112.69003906250003,
                        "bin_end": 147.06005859375,
                        "count": 6
                      }
                    ]
                  }
                },
                {
                  "name": "Up_Trend",
                  "dtype": "float64",
                  "stats": {
                    "unique_count": 2,
                    "nan_count": 0,
                    "min": 0,
                    "max": 1,
                    "histogram": [
                      {
                        "bin_start": 0,
                        "bin_end": 0.1,
                        "count": 5592
                      },
                      {
                        "bin_start": 0.1,
                        "bin_end": 0.2,
                        "count": 0
                      },
                      {
                        "bin_start": 0.2,
                        "bin_end": 0.30000000000000004,
                        "count": 0
                      },
                      {
                        "bin_start": 0.30000000000000004,
                        "bin_end": 0.4,
                        "count": 0
                      },
                      {
                        "bin_start": 0.4,
                        "bin_end": 0.5,
                        "count": 0
                      },
                      {
                        "bin_start": 0.5,
                        "bin_end": 0.6000000000000001,
                        "count": 0
                      },
                      {
                        "bin_start": 0.6000000000000001,
                        "bin_end": 0.7000000000000001,
                        "count": 0
                      },
                      {
                        "bin_start": 0.7000000000000001,
                        "bin_end": 0.8,
                        "count": 0
                      },
                      {
                        "bin_start": 0.8,
                        "bin_end": 0.9,
                        "count": 0
                      },
                      {
                        "bin_start": 0.9,
                        "bin_end": 1,
                        "count": 404
                      }
                    ]
                  }
                },
                {
                  "name": "Down_Trend",
                  "dtype": "float64",
                  "stats": {
                    "unique_count": 2,
                    "nan_count": 0,
                    "min": 0,
                    "max": 1,
                    "histogram": [
                      {
                        "bin_start": 0,
                        "bin_end": 0.1,
                        "count": 5100
                      },
                      {
                        "bin_start": 0.1,
                        "bin_end": 0.2,
                        "count": 0
                      },
                      {
                        "bin_start": 0.2,
                        "bin_end": 0.30000000000000004,
                        "count": 0
                      },
                      {
                        "bin_start": 0.30000000000000004,
                        "bin_end": 0.4,
                        "count": 0
                      },
                      {
                        "bin_start": 0.4,
                        "bin_end": 0.5,
                        "count": 0
                      },
                      {
                        "bin_start": 0.5,
                        "bin_end": 0.6000000000000001,
                        "count": 0
                      },
                      {
                        "bin_start": 0.6000000000000001,
                        "bin_end": 0.7000000000000001,
                        "count": 0
                      },
                      {
                        "bin_start": 0.7000000000000001,
                        "bin_end": 0.8,
                        "count": 0
                      },
                      {
                        "bin_start": 0.8,
                        "bin_end": 0.9,
                        "count": 0
                      },
                      {
                        "bin_start": 0.9,
                        "bin_end": 1,
                        "count": 896
                      }
                    ]
                  }
                },
                {
                  "name": "NR2",
                  "dtype": "float64",
                  "stats": {
                    "unique_count": 2,
                    "nan_count": 0,
                    "min": 0,
                    "max": 1,
                    "histogram": [
                      {
                        "bin_start": 0,
                        "bin_end": 0.1,
                        "count": 3906
                      },
                      {
                        "bin_start": 0.1,
                        "bin_end": 0.2,
                        "count": 0
                      },
                      {
                        "bin_start": 0.2,
                        "bin_end": 0.30000000000000004,
                        "count": 0
                      },
                      {
                        "bin_start": 0.30000000000000004,
                        "bin_end": 0.4,
                        "count": 0
                      },
                      {
                        "bin_start": 0.4,
                        "bin_end": 0.5,
                        "count": 0
                      },
                      {
                        "bin_start": 0.5,
                        "bin_end": 0.6000000000000001,
                        "count": 0
                      },
                      {
                        "bin_start": 0.6000000000000001,
                        "bin_end": 0.7000000000000001,
                        "count": 0
                      },
                      {
                        "bin_start": 0.7000000000000001,
                        "bin_end": 0.8,
                        "count": 0
                      },
                      {
                        "bin_start": 0.8,
                        "bin_end": 0.9,
                        "count": 0
                      },
                      {
                        "bin_start": 0.9,
                        "bin_end": 1,
                        "count": 2090
                      }
                    ]
                  }
                },
                {
                  "name": "NR3",
                  "dtype": "float64",
                  "stats": {
                    "unique_count": 2,
                    "nan_count": 0,
                    "min": 0,
                    "max": 1,
                    "histogram": [
                      {
                        "bin_start": 0,
                        "bin_end": 0.1,
                        "count": 4369
                      },
                      {
                        "bin_start": 0.1,
                        "bin_end": 0.2,
                        "count": 0
                      },
                      {
                        "bin_start": 0.2,
                        "bin_end": 0.30000000000000004,
                        "count": 0
                      },
                      {
                        "bin_start": 0.30000000000000004,
                        "bin_end": 0.4,
                        "count": 0
                      },
                      {
                        "bin_start": 0.4,
                        "bin_end": 0.5,
                        "count": 0
                      },
                      {
                        "bin_start": 0.5,
                        "bin_end": 0.6000000000000001,
                        "count": 0
                      },
                      {
                        "bin_start": 0.6000000000000001,
                        "bin_end": 0.7000000000000001,
                        "count": 0
                      },
                      {
                        "bin_start": 0.7000000000000001,
                        "bin_end": 0.8,
                        "count": 0
                      },
                      {
                        "bin_start": 0.8,
                        "bin_end": 0.9,
                        "count": 0
                      },
                      {
                        "bin_start": 0.9,
                        "bin_end": 1,
                        "count": 1627
                      }
                    ]
                  }
                },
                {
                  "name": "NR4",
                  "dtype": "float64",
                  "stats": {
                    "unique_count": 2,
                    "nan_count": 0,
                    "min": 0,
                    "max": 1,
                    "histogram": [
                      {
                        "bin_start": 0,
                        "bin_end": 0.1,
                        "count": 4657
                      },
                      {
                        "bin_start": 0.1,
                        "bin_end": 0.2,
                        "count": 0
                      },
                      {
                        "bin_start": 0.2,
                        "bin_end": 0.30000000000000004,
                        "count": 0
                      },
                      {
                        "bin_start": 0.30000000000000004,
                        "bin_end": 0.4,
                        "count": 0
                      },
                      {
                        "bin_start": 0.4,
                        "bin_end": 0.5,
                        "count": 0
                      },
                      {
                        "bin_start": 0.5,
                        "bin_end": 0.6000000000000001,
                        "count": 0
                      },
                      {
                        "bin_start": 0.6000000000000001,
                        "bin_end": 0.7000000000000001,
                        "count": 0
                      },
                      {
                        "bin_start": 0.7000000000000001,
                        "bin_end": 0.8,
                        "count": 0
                      },
                      {
                        "bin_start": 0.8,
                        "bin_end": 0.9,
                        "count": 0
                      },
                      {
                        "bin_start": 0.9,
                        "bin_end": 1,
                        "count": 1339
                      }
                    ]
                  }
                },
                {
                  "name": "NR5",
                  "dtype": "float64",
                  "stats": {
                    "unique_count": 2,
                    "nan_count": 0,
                    "min": 0,
                    "max": 1,
                    "histogram": [
                      {
                        "bin_start": 0,
                        "bin_end": 0.1,
                        "count": 4825
                      },
                      {
                        "bin_start": 0.1,
                        "bin_end": 0.2,
                        "count": 0
                      },
                      {
                        "bin_start": 0.2,
                        "bin_end": 0.30000000000000004,
                        "count": 0
                      },
                      {
                        "bin_start": 0.30000000000000004,
                        "bin_end": 0.4,
                        "count": 0
                      },
                      {
                        "bin_start": 0.4,
                        "bin_end": 0.5,
                        "count": 0
                      },
                      {
                        "bin_start": 0.5,
                        "bin_end": 0.6000000000000001,
                        "count": 0
                      },
                      {
                        "bin_start": 0.6000000000000001,
                        "bin_end": 0.7000000000000001,
                        "count": 0
                      },
                      {
                        "bin_start": 0.7000000000000001,
                        "bin_end": 0.8,
                        "count": 0
                      },
                      {
                        "bin_start": 0.8,
                        "bin_end": 0.9,
                        "count": 0
                      },
                      {
                        "bin_start": 0.9,
                        "bin_end": 1,
                        "count": 1171
                      }
                    ]
                  }
                },
                {
                  "name": "NR6",
                  "dtype": "float64",
                  "stats": {
                    "unique_count": 2,
                    "nan_count": 0,
                    "min": 0,
                    "max": 1,
                    "histogram": [
                      {
                        "bin_start": 0,
                        "bin_end": 0.1,
                        "count": 4951
                      },
                      {
                        "bin_start": 0.1,
                        "bin_end": 0.2,
                        "count": 0
                      },
                      {
                        "bin_start": 0.2,
                        "bin_end": 0.30000000000000004,
                        "count": 0
                      },
                      {
                        "bin_start": 0.30000000000000004,
                        "bin_end": 0.4,
                        "count": 0
                      },
                      {
                        "bin_start": 0.4,
                        "bin_end": 0.5,
                        "count": 0
                      },
                      {
                        "bin_start": 0.5,
                        "bin_end": 0.6000000000000001,
                        "count": 0
                      },
                      {
                        "bin_start": 0.6000000000000001,
                        "bin_end": 0.7000000000000001,
                        "count": 0
                      },
                      {
                        "bin_start": 0.7000000000000001,
                        "bin_end": 0.8,
                        "count": 0
                      },
                      {
                        "bin_start": 0.8,
                        "bin_end": 0.9,
                        "count": 0
                      },
                      {
                        "bin_start": 0.9,
                        "bin_end": 1,
                        "count": 1045
                      }
                    ]
                  }
                },
                {
                  "name": "NR7",
                  "dtype": "float64",
                  "stats": {
                    "unique_count": 2,
                    "nan_count": 0,
                    "min": 0,
                    "max": 1,
                    "histogram": [
                      {
                        "bin_start": 0,
                        "bin_end": 0.1,
                        "count": 5052
                      },
                      {
                        "bin_start": 0.1,
                        "bin_end": 0.2,
                        "count": 0
                      },
                      {
                        "bin_start": 0.2,
                        "bin_end": 0.30000000000000004,
                        "count": 0
                      },
                      {
                        "bin_start": 0.30000000000000004,
                        "bin_end": 0.4,
                        "count": 0
                      },
                      {
                        "bin_start": 0.4,
                        "bin_end": 0.5,
                        "count": 0
                      },
                      {
                        "bin_start": 0.5,
                        "bin_end": 0.6000000000000001,
                        "count": 0
                      },
                      {
                        "bin_start": 0.6000000000000001,
                        "bin_end": 0.7000000000000001,
                        "count": 0
                      },
                      {
                        "bin_start": 0.7000000000000001,
                        "bin_end": 0.8,
                        "count": 0
                      },
                      {
                        "bin_start": 0.8,
                        "bin_end": 0.9,
                        "count": 0
                      },
                      {
                        "bin_start": 0.9,
                        "bin_end": 1,
                        "count": 944
                      }
                    ]
                  }
                },
                {
                  "name": "DOJI",
                  "dtype": "float64"
                },
                {
                  "name": "Up_Hook0",
                  "dtype": "float64"
                },
                {
                  "name": "Down_Hook0",
                  "dtype": "float64"
                },
                {
                  "name": "Up_Hook1",
                  "dtype": "float64"
                },
                {
                  "name": "Down_Hook1",
                  "dtype": "float64"
                },
                {
                  "name": "Up_Hook2",
                  "dtype": "float64"
                },
                {
                  "name": "Down_Hook2",
                  "dtype": "float64"
                },
                {
                  "name": "Up_Hook3",
                  "dtype": "float64"
                },
                {
                  "name": "Down_Hook3",
                  "dtype": "float64"
                },
                {
                  "name": "Up_Hook4",
                  "dtype": "float64"
                },
                {
                  "name": "Down_Hook4",
                  "dtype": "float64"
                },
                {
                  "name": "Up_Hook5",
                  "dtype": "float64"
                },
                {
                  "name": "Down_Hook5",
                  "dtype": "float64"
                },
                {
                  "name": "Up_Hook6",
                  "dtype": "float64"
                },
                {
                  "name": "Down_Hook6",
                  "dtype": "float64"
                },
                {
                  "name": "Up_Hook7",
                  "dtype": "float64"
                },
                {
                  "name": "Down_Hook7",
                  "dtype": "float64"
                },
                {
                  "name": "Up_Hook8",
                  "dtype": "float64"
                },
                {
                  "name": "Down_Hook8",
                  "dtype": "float64"
                },
                {
                  "name": "Up_Hook9",
                  "dtype": "float64"
                },
                {
                  "name": "Down_Hook9",
                  "dtype": "float64"
                },
                {
                  "name": "Up_Hook10",
                  "dtype": "float64"
                },
                {
                  "name": "Down_Hook10",
                  "dtype": "float64"
                },
                {
                  "name": "NR4_membership",
                  "dtype": "float64"
                },
                {
                  "name": "NR6_membership",
                  "dtype": "float64"
                },
                {
                  "name": "NR7_membership",
                  "dtype": "float64"
                },
                {
                  "name": "DOJI0.05",
                  "dtype": "float64"
                },
                {
                  "name": "DOJI0.05_membership",
                  "dtype": "float64"
                },
                {
                  "name": "DOJI0.1",
                  "dtype": "float64"
                },
                {
                  "name": "DOJI0.1_membership",
                  "dtype": "float64"
                },
                {
                  "name": "DOJI0.15",
                  "dtype": "float64"
                },
                {
                  "name": "DOJI0.15_membership",
                  "dtype": "float64"
                },
                {
                  "name": "DOJI0.2",
                  "dtype": "float64"
                },
                {
                  "name": "DOJI0.2_membership",
                  "dtype": "float64"
                },
                {
                  "name": "DOJI0.25",
                  "dtype": "float64"
                },
                {
                  "name": "DOJI0.25_membership",
                  "dtype": "float64"
                },
                {
                  "name": "DOJI0.3",
                  "dtype": "float64"
                },
                {
                  "name": "DOJI0.3_membership",
                  "dtype": "float64"
                },
                {
                  "name": "Hook0_x",
                  "dtype": "float64"
                },
                {
                  "name": "Hook0_membership",
                  "dtype": "float64"
                },
                {
                  "name": "Hook1_x",
                  "dtype": "float64"
                },
                {
                  "name": "Hook1_membership",
                  "dtype": "float64"
                },
                {
                  "name": "Hook2_x",
                  "dtype": "float64"
                },
                {
                  "name": "Hook2_membership",
                  "dtype": "float64"
                },
                {
                  "name": "Hook3_x",
                  "dtype": "float64"
                },
                {
                  "name": "Hook3_membership",
                  "dtype": "float64"
                },
                {
                  "name": "Hook4_x",
                  "dtype": "float64"
                },
                {
                  "name": "Hook4_membership",
                  "dtype": "float64"
                },
                {
                  "name": "Hook5_x",
                  "dtype": "float64"
                },
                {
                  "name": "Hook5_membership",
                  "dtype": "float64"
                },
                {
                  "name": "Hook6_x",
                  "dtype": "float64"
                },
                {
                  "name": "Hook6_membership",
                  "dtype": "float64"
                },
                {
                  "name": "Hook7_x",
                  "dtype": "float64"
                },
                {
                  "name": "Hook7_membership",
                  "dtype": "float64"
                },
                {
                  "name": "Hook8_x",
                  "dtype": "float64"
                },
                {
                  "name": "Hook8_membership",
                  "dtype": "float64"
                },
                {
                  "name": "Hook9_x",
                  "dtype": "float64"
                },
                {
                  "name": "Hook9_membership",
                  "dtype": "float64"
                },
                {
                  "name": "Hook10_x",
                  "dtype": "float64"
                },
                {
                  "name": "Hook10_membership",
                  "dtype": "float64"
                },
                {
                  "name": "_deepnote_index_column",
                  "dtype": "datetime64[ns]"
                }
              ],
              "rows_top": [
                {
                  "Open": 2.4375,
                  "High": 2.5,
                  "Low": 1.9270830154418945,
                  "Close": 1.9583330154418945,
                  "Adj Close": 1.9583330154418945,
                  "Volume": 72156000,
                  "Range": 0.5729169845581055,
                  "RangeOC": 0.47916698455810547,
                  "Up_Trend": 0,
                  "Down_Trend": 0,
                  "NR2": 0,
                  "NR3": 0,
                  "NR4": 0,
                  "NR5": 0,
                  "NR6": 0,
                  "NR7": 0,
                  "DOJI": 0,
                  "Up_Hook0": 0,
                  "Down_Hook0": 0,
                  "Up_Hook1": 0,
                  "Down_Hook1": 0,
                  "Up_Hook2": 0,
                  "Down_Hook2": 0,
                  "Up_Hook3": 0,
                  "Down_Hook3": 0,
                  "Up_Hook4": 0,
                  "Down_Hook4": 0,
                  "Up_Hook5": 0,
                  "Down_Hook5": 0,
                  "Up_Hook6": 0,
                  "Down_Hook6": 0,
                  "Up_Hook7": 0,
                  "Down_Hook7": 0,
                  "Up_Hook8": 0,
                  "Down_Hook8": 0,
                  "Up_Hook9": 0,
                  "Down_Hook9": 0,
                  "Up_Hook10": 0,
                  "Down_Hook10": 0,
                  "NR4_membership": "nan",
                  "NR6_membership": "nan",
                  "NR7_membership": "nan",
                  "DOJI0.05": -8.58333969116211,
                  "DOJI0.05_membership": -8.58333969116211,
                  "DOJI0.1": -3.7916698455810547,
                  "DOJI0.1_membership": -3.7916698455810547,
                  "DOJI0.15": -2.194446563720703,
                  "DOJI0.15_membership": -2.194446563720703,
                  "DOJI0.2": -1.3958349227905273,
                  "DOJI0.2_membership": -1.3958349227905273,
                  "DOJI0.25": -0.9166679382324219,
                  "DOJI0.25_membership": -0.9166679382324219,
                  "DOJI0.3": -0.5972232818603516,
                  "DOJI0.3_membership": -0.5972232818603516,
                  "Hook0_x": "nan",
                  "Hook0_membership": "nan",
                  "Hook1_x": "nan",
                  "Hook1_membership": "nan",
                  "Hook2_x": "nan",
                  "Hook2_membership": "nan",
                  "Hook3_x": "nan",
                  "Hook3_membership": "nan",
                  "Hook4_x": "nan",
                  "Hook4_membership": "nan",
                  "Hook5_x": "nan",
                  "Hook5_membership": "nan",
                  "Hook6_x": "nan",
                  "Hook6_membership": "nan",
                  "Hook7_x": "nan",
                  "Hook7_membership": "nan",
                  "Hook8_x": "nan",
                  "Hook8_membership": "nan",
                  "Hook9_x": "nan",
                  "Hook9_membership": "nan",
                  "Hook10_x": "nan",
                  "Hook10_membership": "nan",
                  "_deepnote_index_column": "1997-05-15T00:00:00.000000"
                },
                {
                  "Open": 1.96875,
                  "High": 1.9791669845581055,
                  "Low": 1.7083330154418945,
                  "Close": 1.7291669845581055,
                  "Adj Close": 1.7291669845581055,
                  "Volume": 14700000,
                  "Range": 0.27083396911621094,
                  "RangeOC": 0.23958301544189453,
                  "Up_Trend": 0,
                  "Down_Trend": 1,
                  "NR2": 0,
                  "NR3": 0,
                  "NR4": 0,
                  "NR5": 0,
                  "NR6": 0,
                  "NR7": 0,
                  "DOJI": 0,
                  "Up_Hook0": 0,
                  "Down_Hook0": 0,
                  "Up_Hook1": 0,
                  "Down_Hook1": 0,
                  "Up_Hook2": 0,
                  "Down_Hook2": 0,
                  "Up_Hook3": 0,
                  "Down_Hook3": 0,
                  "Up_Hook4": 0,
                  "Down_Hook4": 0,
                  "Up_Hook5": 0,
                  "Down_Hook5": 0,
                  "Up_Hook6": 0,
                  "Down_Hook6": 0,
                  "Up_Hook7": 0,
                  "Down_Hook7": 0,
                  "Up_Hook8": 0,
                  "Down_Hook8": 0,
                  "Up_Hook9": 0,
                  "Down_Hook9": 0,
                  "Up_Hook10": 0,
                  "Down_Hook10": 0,
                  "NR4_membership": "nan",
                  "NR6_membership": "nan",
                  "NR7_membership": "nan",
                  "DOJI0.05": -3.7916603088378906,
                  "DOJI0.05_membership": -3.7916603088378906,
                  "DOJI0.1": -1.3958301544189453,
                  "DOJI0.1_membership": -1.3958301544189453,
                  "DOJI0.15": -0.5972201029459636,
                  "DOJI0.15_membership": -0.5972201029459636,
                  "DOJI0.2": -0.19791507720947266,
                  "DOJI0.2_membership": -0.19791507720947266,
                  "DOJI0.25": 0.041667938232421875,
                  "DOJI0.25_membership": 0.041667938232421875,
                  "DOJI0.3": 0.2013899485270182,
                  "DOJI0.3_membership": 0.2013899485270182,
                  "Hook0_x": "nan",
                  "Hook0_membership": "nan",
                  "Hook1_x": "nan",
                  "Hook1_membership": "nan",
                  "Hook2_x": "nan",
                  "Hook2_membership": "nan",
                  "Hook3_x": "nan",
                  "Hook3_membership": "nan",
                  "Hook4_x": "nan",
                  "Hook4_membership": "nan",
                  "Hook5_x": "nan",
                  "Hook5_membership": "nan",
                  "Hook6_x": "nan",
                  "Hook6_membership": "nan",
                  "Hook7_x": "nan",
                  "Hook7_membership": "nan",
                  "Hook8_x": "nan",
                  "Hook8_membership": "nan",
                  "Hook9_x": "nan",
                  "Hook9_membership": "nan",
                  "Hook10_x": "nan",
                  "Hook10_membership": "nan",
                  "_deepnote_index_column": "1997-05-16T00:00:00.000000"
                },
                {
                  "Open": 1.7604169845581055,
                  "High": 1.7708330154418945,
                  "Low": 1.625,
                  "Close": 1.7083330154418945,
                  "Adj Close": 1.7083330154418945,
                  "Volume": 6106800,
                  "Range": 0.14583301544189453,
                  "RangeOC": 0.05208396911621094,
                  "Up_Trend": 0,
                  "Down_Trend": 1,
                  "NR2": 1,
                  "NR3": 0,
                  "NR4": 0,
                  "NR5": 0,
                  "NR6": 0,
                  "NR7": 0,
                  "DOJI": 0,
                  "Up_Hook0": 0,
                  "Down_Hook0": 0,
                  "Up_Hook1": 0,
                  "Down_Hook1": 0,
                  "Up_Hook2": 0,
                  "Down_Hook2": 0,
                  "Up_Hook3": 0,
                  "Down_Hook3": 0,
                  "Up_Hook4": 0,
                  "Down_Hook4": 0,
                  "Up_Hook5": 0,
                  "Down_Hook5": 0,
                  "Up_Hook6": 0,
                  "Down_Hook6": 0,
                  "Up_Hook7": 0,
                  "Down_Hook7": 0,
                  "Up_Hook8": 0,
                  "Down_Hook8": 0,
                  "Up_Hook9": 0,
                  "Down_Hook9": 0,
                  "Up_Hook10": 0,
                  "Down_Hook10": 0,
                  "NR4_membership": "nan",
                  "NR6_membership": "nan",
                  "NR7_membership": "nan",
                  "DOJI0.05": -0.04167938232421875,
                  "DOJI0.05_membership": -0.04167938232421875,
                  "DOJI0.1": 0.4791603088378906,
                  "DOJI0.1_membership": 0.4791603088378906,
                  "DOJI0.15": 0.6527735392252604,
                  "DOJI0.15_membership": 0.6527735392252604,
                  "DOJI0.2": 0.7395801544189453,
                  "DOJI0.2_membership": 0.7395801544189453,
                  "DOJI0.25": 0.7916641235351562,
                  "DOJI0.25_membership": 0.7916641235351562,
                  "DOJI0.3": 0.8263867696126301,
                  "DOJI0.3_membership": 0.8263867696126301,
                  "Hook0_x": "nan",
                  "Hook0_membership": "nan",
                  "Hook1_x": "nan",
                  "Hook1_membership": "nan",
                  "Hook2_x": "nan",
                  "Hook2_membership": "nan",
                  "Hook3_x": "nan",
                  "Hook3_membership": "nan",
                  "Hook4_x": "nan",
                  "Hook4_membership": "nan",
                  "Hook5_x": "nan",
                  "Hook5_membership": "nan",
                  "Hook6_x": "nan",
                  "Hook6_membership": "nan",
                  "Hook7_x": "nan",
                  "Hook7_membership": "nan",
                  "Hook8_x": "nan",
                  "Hook8_membership": "nan",
                  "Hook9_x": "nan",
                  "Hook9_membership": "nan",
                  "Hook10_x": "nan",
                  "Hook10_membership": "nan",
                  "_deepnote_index_column": "1997-05-19T00:00:00.000000"
                },
                {
                  "Open": 1.7291669845581055,
                  "High": 1.75,
                  "Low": 1.6354169845581055,
                  "Close": 1.6354169845581055,
                  "Adj Close": 1.6354169845581055,
                  "Volume": 5467200,
                  "Range": 0.11458301544189453,
                  "RangeOC": 0.09375,
                  "Up_Trend": 0,
                  "Down_Trend": 0,
                  "NR2": 1,
                  "NR3": 0,
                  "NR4": 0,
                  "NR5": 0,
                  "NR6": 0,
                  "NR7": 0,
                  "DOJI": 0,
                  "Up_Hook0": 0,
                  "Down_Hook0": 0,
                  "Up_Hook1": 0,
                  "Down_Hook1": 0,
                  "Up_Hook2": 0,
                  "Down_Hook2": 0,
                  "Up_Hook3": 0,
                  "Down_Hook3": 0,
                  "Up_Hook4": 0,
                  "Down_Hook4": 0,
                  "Up_Hook5": 0,
                  "Down_Hook5": 0,
                  "Up_Hook6": 0,
                  "Down_Hook6": 0,
                  "Up_Hook7": 0,
                  "Down_Hook7": 0,
                  "Up_Hook8": 0,
                  "Down_Hook8": 0,
                  "Up_Hook9": 0,
                  "Down_Hook9": 0,
                  "Up_Hook10": 0,
                  "Down_Hook10": 0,
                  "NR4_membership": "nan",
                  "NR6_membership": "nan",
                  "NR7_membership": "nan",
                  "DOJI0.05": -0.875,
                  "DOJI0.05_membership": -0.875,
                  "DOJI0.1": 0.0625,
                  "DOJI0.1_membership": 0.0625,
                  "DOJI0.15": 0.375,
                  "DOJI0.15_membership": 0.375,
                  "DOJI0.2": 0.53125,
                  "DOJI0.2_membership": 0.53125,
                  "DOJI0.25": 0.625,
                  "DOJI0.25_membership": 0.625,
                  "DOJI0.3": 0.6875,
                  "DOJI0.3_membership": 0.6875,
                  "Hook0_x": "nan",
                  "Hook0_membership": "nan",
                  "Hook1_x": "nan",
                  "Hook1_membership": "nan",
                  "Hook2_x": "nan",
                  "Hook2_membership": "nan",
                  "Hook3_x": "nan",
                  "Hook3_membership": "nan",
                  "Hook4_x": "nan",
                  "Hook4_membership": "nan",
                  "Hook5_x": "nan",
                  "Hook5_membership": "nan",
                  "Hook6_x": "nan",
                  "Hook6_membership": "nan",
                  "Hook7_x": "nan",
                  "Hook7_membership": "nan",
                  "Hook8_x": "nan",
                  "Hook8_membership": "nan",
                  "Hook9_x": "nan",
                  "Hook9_membership": "nan",
                  "Hook10_x": "nan",
                  "Hook10_membership": "nan",
                  "_deepnote_index_column": "1997-05-20T00:00:00.000000"
                },
                {
                  "Open": 1.6354169845581055,
                  "High": 1.6458330154418945,
                  "Low": 1.375,
                  "Close": 1.4270830154418945,
                  "Adj Close": 1.4270830154418945,
                  "Volume": 18853200,
                  "Range": 0.27083301544189453,
                  "RangeOC": 0.20833396911621094,
                  "Up_Trend": 0,
                  "Down_Trend": 1,
                  "NR2": 0,
                  "NR3": 0,
                  "NR4": 0,
                  "NR5": 0,
                  "NR6": 0,
                  "NR7": 0,
                  "DOJI": 0,
                  "Up_Hook0": 0,
                  "Down_Hook0": 0,
                  "Up_Hook1": 0,
                  "Down_Hook1": 0,
                  "Up_Hook2": 0,
                  "Down_Hook2": 0,
                  "Up_Hook3": 0,
                  "Down_Hook3": 0,
                  "Up_Hook4": 0,
                  "Down_Hook4": 0,
                  "Up_Hook5": 0,
                  "Down_Hook5": 0,
                  "Up_Hook6": 0,
                  "Down_Hook6": 0,
                  "Up_Hook7": 0,
                  "Down_Hook7": 0,
                  "Up_Hook8": 0,
                  "Down_Hook8": 0,
                  "Up_Hook9": 0,
                  "Down_Hook9": 0,
                  "Up_Hook10": 0,
                  "Down_Hook10": 0,
                  "NR4_membership": "0.0",
                  "NR6_membership": "nan",
                  "NR7_membership": "nan",
                  "DOJI0.05": -3.1666793823242188,
                  "DOJI0.05_membership": -3.1666793823242188,
                  "DOJI0.1": -1.0833396911621094,
                  "DOJI0.1_membership": -1.0833396911621094,
                  "DOJI0.15": -0.38889312744140625,
                  "DOJI0.15_membership": -0.38889312744140625,
                  "DOJI0.2": -0.04166984558105469,
                  "DOJI0.2_membership": -0.04166984558105469,
                  "DOJI0.25": 0.16666412353515625,
                  "DOJI0.25_membership": 0.16666412353515625,
                  "DOJI0.3": 0.3055534362792969,
                  "DOJI0.3_membership": 0.3055534362792969,
                  "Hook0_x": "nan",
                  "Hook0_membership": "nan",
                  "Hook1_x": "nan",
                  "Hook1_membership": "nan",
                  "Hook2_x": "nan",
                  "Hook2_membership": "nan",
                  "Hook3_x": "nan",
                  "Hook3_membership": "nan",
                  "Hook4_x": "nan",
                  "Hook4_membership": "nan",
                  "Hook5_x": "nan",
                  "Hook5_membership": "nan",
                  "Hook6_x": "nan",
                  "Hook6_membership": "nan",
                  "Hook7_x": "nan",
                  "Hook7_membership": "nan",
                  "Hook8_x": "nan",
                  "Hook8_membership": "nan",
                  "Hook9_x": "nan",
                  "Hook9_membership": "nan",
                  "Hook10_x": "nan",
                  "Hook10_membership": "nan",
                  "_deepnote_index_column": "1997-05-21T00:00:00.000000"
                },
                {
                  "Open": 1.4375,
                  "High": 1.4479169845581055,
                  "Low": 1.3125,
                  "Close": 1.3958330154418945,
                  "Adj Close": 1.3958330154418945,
                  "Volume": 11776800,
                  "Range": 0.13541698455810547,
                  "RangeOC": 0.04166698455810547,
                  "Up_Trend": 0,
                  "Down_Trend": 1,
                  "NR2": 0,
                  "NR3": 0,
                  "NR4": 0,
                  "NR5": 0,
                  "NR6": 0,
                  "NR7": 0,
                  "DOJI": 0,
                  "Up_Hook0": 0,
                  "Down_Hook0": 0,
                  "Up_Hook1": 0,
                  "Down_Hook1": 0,
                  "Up_Hook2": 0,
                  "Down_Hook2": 0,
                  "Up_Hook3": 0,
                  "Down_Hook3": 0,
                  "Up_Hook4": 0,
                  "Down_Hook4": 0,
                  "Up_Hook5": 0,
                  "Down_Hook5": 0,
                  "Up_Hook6": 0,
                  "Down_Hook6": 0,
                  "Up_Hook7": 0,
                  "Down_Hook7": 0,
                  "Up_Hook8": 0,
                  "Down_Hook8": 0,
                  "Up_Hook9": 0,
                  "Down_Hook9": 0,
                  "Up_Hook10": 0,
                  "Down_Hook10": 0,
                  "NR4_membership": "0.0",
                  "NR6_membership": "nan",
                  "NR7_membership": "nan",
                  "DOJI0.05": 0.16666030883789062,
                  "DOJI0.05_membership": 0.16666030883789062,
                  "DOJI0.1": 0.5833301544189453,
                  "DOJI0.1_membership": 0.5833301544189453,
                  "DOJI0.15": 0.7222201029459635,
                  "DOJI0.15_membership": 0.7222201029459635,
                  "DOJI0.2": 0.7916650772094727,
                  "DOJI0.2_membership": 0.7916650772094727,
                  "DOJI0.25": 0.8333320617675781,
                  "DOJI0.25_membership": 0.8333320617675781,
                  "DOJI0.3": 0.8611100514729817,
                  "DOJI0.3_membership": 0.8611100514729817,
                  "Hook0_x": "nan",
                  "Hook0_membership": "nan",
                  "Hook1_x": "nan",
                  "Hook1_membership": "nan",
                  "Hook2_x": "nan",
                  "Hook2_membership": "nan",
                  "Hook3_x": "nan",
                  "Hook3_membership": "nan",
                  "Hook4_x": "nan",
                  "Hook4_membership": "nan",
                  "Hook5_x": "nan",
                  "Hook5_membership": "nan",
                  "Hook6_x": "nan",
                  "Hook6_membership": "nan",
                  "Hook7_x": "nan",
                  "Hook7_membership": "nan",
                  "Hook8_x": "nan",
                  "Hook8_membership": "nan",
                  "Hook9_x": "nan",
                  "Hook9_membership": "nan",
                  "Hook10_x": "nan",
                  "Hook10_membership": "nan",
                  "_deepnote_index_column": "1997-05-22T00:00:00.000000"
                }
              ],
              "rows_bottom": [
                {
                  "Open": 3012,
                  "High": 3058.1298828125,
                  "Low": 2945.429931640625,
                  "Close": 2977.570068359375,
                  "Adj Close": 2977.570068359375,
                  "Volume": 5458700,
                  "Range": 112.699951171875,
                  "RangeOC": 34.429931640625,
                  "Up_Trend": 0,
                  "Down_Trend": 0,
                  "NR2": 0,
                  "NR3": 0,
                  "NR4": 0,
                  "NR5": 0,
                  "NR6": 0,
                  "NR7": 0,
                  "DOJI": 0,
                  "Up_Hook0": 0,
                  "Down_Hook0": 0,
                  "Up_Hook1": 0,
                  "Down_Hook1": 0,
                  "Up_Hook2": 0,
                  "Down_Hook2": 0,
                  "Up_Hook3": 0,
                  "Down_Hook3": 0,
                  "Up_Hook4": 0,
                  "Down_Hook4": 0,
                  "Up_Hook5": 0,
                  "Down_Hook5": 0,
                  "Up_Hook6": 0,
                  "Down_Hook6": 0,
                  "Up_Hook7": 0,
                  "Down_Hook7": 0,
                  "Up_Hook8": 0,
                  "Down_Hook8": 0,
                  "Up_Hook9": 0,
                  "Down_Hook9": 0,
                  "Up_Hook10": 0,
                  "Down_Hook10": 0,
                  "NR4_membership": 0,
                  "NR6_membership": 0,
                  "NR7_membership": 0,
                  "DOJI0.05": "nan",
                  "DOJI0.05_membership": 0,
                  "DOJI0.1": "nan",
                  "DOJI0.1_membership": 0,
                  "DOJI0.15": "nan",
                  "DOJI0.15_membership": 0,
                  "DOJI0.2": "nan",
                  "DOJI0.2_membership": 0,
                  "DOJI0.25": "nan",
                  "DOJI0.25_membership": 0,
                  "DOJI0.3": "nan",
                  "DOJI0.3_membership": 0,
                  "Hook0_x": "nan",
                  "Hook0_membership": "nan",
                  "Hook1_x": "nan",
                  "Hook1_membership": "nan",
                  "Hook2_x": "nan",
                  "Hook2_membership": "nan",
                  "Hook3_x": "nan",
                  "Hook3_membership": "nan",
                  "Hook4_x": "nan",
                  "Hook4_membership": "nan",
                  "Hook5_x": "nan",
                  "Hook5_membership": "nan",
                  "Hook6_x": "nan",
                  "Hook6_membership": "nan",
                  "Hook7_x": "nan",
                  "Hook7_membership": "nan",
                  "Hook8_x": "nan",
                  "Hook8_membership": "nan",
                  "Hook9_x": "nan",
                  "Hook9_membership": "nan",
                  "Hook10_x": "nan",
                  "Hook10_membership": "nan",
                  "_deepnote_index_column": "2021-03-04T00:00:00.000000"
                },
                {
                  "Open": 3005,
                  "High": 3009,
                  "Low": 2881,
                  "Close": 3000.4599609375,
                  "Adj Close": 3000.4599609375,
                  "Volume": 5383400,
                  "Range": 128,
                  "RangeOC": 4.5400390625,
                  "Up_Trend": 0,
                  "Down_Trend": 1,
                  "NR2": 0,
                  "NR3": 0,
                  "NR4": 0,
                  "NR5": 0,
                  "NR6": 0,
                  "NR7": 0,
                  "DOJI": 1,
                  "Up_Hook0": 0,
                  "Down_Hook0": 1,
                  "Up_Hook1": 0,
                  "Down_Hook1": 1,
                  "Up_Hook2": 0,
                  "Down_Hook2": 1,
                  "Up_Hook3": 0,
                  "Down_Hook3": 1,
                  "Up_Hook4": 0,
                  "Down_Hook4": 1,
                  "Up_Hook5": 0,
                  "Down_Hook5": 1,
                  "Up_Hook6": 0,
                  "Down_Hook6": 0,
                  "Up_Hook7": 0,
                  "Down_Hook7": 0,
                  "Up_Hook8": 0,
                  "Down_Hook8": 0,
                  "Up_Hook9": 0,
                  "Down_Hook9": 0,
                  "Up_Hook10": 0,
                  "Down_Hook10": 0,
                  "NR4_membership": 0,
                  "NR6_membership": 0,
                  "NR7_membership": 0,
                  "DOJI0.05": "nan",
                  "DOJI0.05_membership": 0,
                  "DOJI0.1": "nan",
                  "DOJI0.1_membership": 0,
                  "DOJI0.15": "nan",
                  "DOJI0.15_membership": 0,
                  "DOJI0.2": "nan",
                  "DOJI0.2_membership": 0,
                  "DOJI0.25": "nan",
                  "DOJI0.25_membership": 0,
                  "DOJI0.3": "nan",
                  "DOJI0.3_membership": 0,
                  "Hook0_x": "3.0",
                  "Hook0_membership": "1.0",
                  "Hook1_x": "2.0",
                  "Hook1_membership": "1.0",
                  "Hook2_x": "1.0",
                  "Hook2_membership": "1.0",
                  "Hook3_x": "0.0",
                  "Hook3_membership": "1.0",
                  "Hook4_x": "-1.0",
                  "Hook4_membership": "0.0",
                  "Hook5_x": "-2.0",
                  "Hook5_membership": "0.0",
                  "Hook6_x": "nan",
                  "Hook6_membership": "nan",
                  "Hook7_x": "nan",
                  "Hook7_membership": "nan",
                  "Hook8_x": "nan",
                  "Hook8_membership": "nan",
                  "Hook9_x": "nan",
                  "Hook9_membership": "nan",
                  "Hook10_x": "nan",
                  "Hook10_membership": "nan",
                  "_deepnote_index_column": "2021-03-05T00:00:00.000000"
                },
                {
                  "Open": 3015,
                  "High": 3064.590087890625,
                  "Low": 2951.31005859375,
                  "Close": 2951.949951171875,
                  "Adj Close": 2951.949951171875,
                  "Volume": 4178500,
                  "Range": 113.280029296875,
                  "RangeOC": 63.050048828125,
                  "Up_Trend": 0,
                  "Down_Trend": 0,
                  "NR2": 0,
                  "NR3": 0,
                  "NR4": 0,
                  "NR5": 0,
                  "NR6": 0,
                  "NR7": 0,
                  "DOJI": 0,
                  "Up_Hook0": 0,
                  "Down_Hook0": 0,
                  "Up_Hook1": 0,
                  "Down_Hook1": 0,
                  "Up_Hook2": 0,
                  "Down_Hook2": 0,
                  "Up_Hook3": 0,
                  "Down_Hook3": 0,
                  "Up_Hook4": 0,
                  "Down_Hook4": 0,
                  "Up_Hook5": 0,
                  "Down_Hook5": 0,
                  "Up_Hook6": 0,
                  "Down_Hook6": 0,
                  "Up_Hook7": 0,
                  "Down_Hook7": 0,
                  "Up_Hook8": 0,
                  "Down_Hook8": 0,
                  "Up_Hook9": 0,
                  "Down_Hook9": 0,
                  "Up_Hook10": 0,
                  "Down_Hook10": 0,
                  "NR4_membership": 0,
                  "NR6_membership": 0,
                  "NR7_membership": 0,
                  "DOJI0.05": "nan",
                  "DOJI0.05_membership": 0,
                  "DOJI0.1": "nan",
                  "DOJI0.1_membership": 0,
                  "DOJI0.15": "nan",
                  "DOJI0.15_membership": 0,
                  "DOJI0.2": "nan",
                  "DOJI0.2_membership": 0,
                  "DOJI0.25": "nan",
                  "DOJI0.25_membership": 0,
                  "DOJI0.3": "nan",
                  "DOJI0.3_membership": 0,
                  "Hook0_x": "nan",
                  "Hook0_membership": "nan",
                  "Hook1_x": "nan",
                  "Hook1_membership": "nan",
                  "Hook2_x": "nan",
                  "Hook2_membership": "nan",
                  "Hook3_x": "nan",
                  "Hook3_membership": "nan",
                  "Hook4_x": "nan",
                  "Hook4_membership": "nan",
                  "Hook5_x": "nan",
                  "Hook5_membership": "nan",
                  "Hook6_x": "nan",
                  "Hook6_membership": "nan",
                  "Hook7_x": "nan",
                  "Hook7_membership": "nan",
                  "Hook8_x": "nan",
                  "Hook8_membership": "nan",
                  "Hook9_x": "nan",
                  "Hook9_membership": "nan",
                  "Hook10_x": "nan",
                  "Hook10_membership": "nan",
                  "_deepnote_index_column": "2021-03-08T00:00:00.000000"
                },
                {
                  "Open": 3017.989990234375,
                  "High": 3090.9599609375,
                  "Low": 3005.14990234375,
                  "Close": 3062.85009765625,
                  "Adj Close": 3062.85009765625,
                  "Volume": 4023500,
                  "Range": 85.81005859375,
                  "RangeOC": -44.860107421875,
                  "Up_Trend": 0,
                  "Down_Trend": 0,
                  "NR2": 1,
                  "NR3": 1,
                  "NR4": 0,
                  "NR5": 0,
                  "NR6": 0,
                  "NR7": 0,
                  "DOJI": 0,
                  "Up_Hook0": 0,
                  "Down_Hook0": 1,
                  "Up_Hook1": 0,
                  "Down_Hook1": 1,
                  "Up_Hook2": 0,
                  "Down_Hook2": 1,
                  "Up_Hook3": 0,
                  "Down_Hook3": 1,
                  "Up_Hook4": 0,
                  "Down_Hook4": 1,
                  "Up_Hook5": 0,
                  "Down_Hook5": 1,
                  "Up_Hook6": 0,
                  "Down_Hook6": 1,
                  "Up_Hook7": 0,
                  "Down_Hook7": 1,
                  "Up_Hook8": 0,
                  "Down_Hook8": 0,
                  "Up_Hook9": 0,
                  "Down_Hook9": 0,
                  "Up_Hook10": 0,
                  "Down_Hook10": 0,
                  "NR4_membership": 0,
                  "NR6_membership": 0,
                  "NR7_membership": 0,
                  "DOJI0.05": "nan",
                  "DOJI0.05_membership": 0,
                  "DOJI0.1": "nan",
                  "DOJI0.1_membership": 0,
                  "DOJI0.15": "nan",
                  "DOJI0.15_membership": 0,
                  "DOJI0.2": "nan",
                  "DOJI0.2_membership": 0,
                  "DOJI0.25": "nan",
                  "DOJI0.25_membership": 0,
                  "DOJI0.3": "nan",
                  "DOJI0.3_membership": 0,
                  "Hook0_x": "-75.9599609375",
                  "Hook0_membership": "0.0",
                  "Hook1_x": "-76.9599609375",
                  "Hook1_membership": "0.0",
                  "Hook2_x": "-77.9599609375",
                  "Hook2_membership": "0.0",
                  "Hook3_x": "-78.9599609375",
                  "Hook3_membership": "0.0",
                  "Hook4_x": "-79.9599609375",
                  "Hook4_membership": "0.0",
                  "Hook5_x": "-80.9599609375",
                  "Hook5_membership": "0.0",
                  "Hook6_x": "-81.9599609375",
                  "Hook6_membership": "0.0",
                  "Hook7_x": "-82.9599609375",
                  "Hook7_membership": "0.0",
                  "Hook8_x": "nan",
                  "Hook8_membership": "nan",
                  "Hook9_x": "nan",
                  "Hook9_membership": "nan",
                  "Hook10_x": "nan",
                  "Hook10_membership": "nan",
                  "_deepnote_index_column": "2021-03-09T00:00:00.000000"
                },
                {
                  "Open": 3098.449951171875,
                  "High": 3116.4599609375,
                  "Low": 3030.050048828125,
                  "Close": 3057.639892578125,
                  "Adj Close": 3057.639892578125,
                  "Volume": 3008700,
                  "Range": 86.409912109375,
                  "RangeOC": 40.81005859375,
                  "Up_Trend": 0,
                  "Down_Trend": 0,
                  "NR2": 0,
                  "NR3": 1,
                  "NR4": 0,
                  "NR5": 0,
                  "NR6": 0,
                  "NR7": 0,
                  "DOJI": 0,
                  "Up_Hook0": 0,
                  "Down_Hook0": 0,
                  "Up_Hook1": 0,
                  "Down_Hook1": 0,
                  "Up_Hook2": 0,
                  "Down_Hook2": 0,
                  "Up_Hook3": 0,
                  "Down_Hook3": 0,
                  "Up_Hook4": 0,
                  "Down_Hook4": 0,
                  "Up_Hook5": 0,
                  "Down_Hook5": 0,
                  "Up_Hook6": 0,
                  "Down_Hook6": 0,
                  "Up_Hook7": 0,
                  "Down_Hook7": 0,
                  "Up_Hook8": 0,
                  "Down_Hook8": 0,
                  "Up_Hook9": 0,
                  "Down_Hook9": 0,
                  "Up_Hook10": 0,
                  "Down_Hook10": 0,
                  "NR4_membership": 0,
                  "NR6_membership": 0,
                  "NR7_membership": 0,
                  "DOJI0.05": "nan",
                  "DOJI0.05_membership": 0,
                  "DOJI0.1": "nan",
                  "DOJI0.1_membership": 0,
                  "DOJI0.15": "nan",
                  "DOJI0.15_membership": 0,
                  "DOJI0.2": "nan",
                  "DOJI0.2_membership": 0,
                  "DOJI0.25": "nan",
                  "DOJI0.25_membership": 0,
                  "DOJI0.3": "nan",
                  "DOJI0.3_membership": 0,
                  "Hook0_x": "nan",
                  "Hook0_membership": "nan",
                  "Hook1_x": "nan",
                  "Hook1_membership": "nan",
                  "Hook2_x": "nan",
                  "Hook2_membership": "nan",
                  "Hook3_x": "nan",
                  "Hook3_membership": "nan",
                  "Hook4_x": "nan",
                  "Hook4_membership": "nan",
                  "Hook5_x": "nan",
                  "Hook5_membership": "nan",
                  "Hook6_x": "nan",
                  "Hook6_membership": "nan",
                  "Hook7_x": "nan",
                  "Hook7_membership": "nan",
                  "Hook8_x": "nan",
                  "Hook8_membership": "nan",
                  "Hook9_x": "nan",
                  "Hook9_membership": "nan",
                  "Hook10_x": "nan",
                  "Hook10_membership": "nan",
                  "_deepnote_index_column": "2021-03-10T00:00:00.000000"
                },
                {
                  "Open": 3104.010009765625,
                  "High": 3131.780029296875,
                  "Low": 3082.929931640625,
                  "Close": 3113.590087890625,
                  "Adj Close": 3113.590087890625,
                  "Volume": 2770800,
                  "Range": 48.85009765625,
                  "RangeOC": -9.580078125,
                  "Up_Trend": 0,
                  "Down_Trend": 0,
                  "NR2": 1,
                  "NR3": 1,
                  "NR4": 1,
                  "NR5": 1,
                  "NR6": 1,
                  "NR7": 0,
                  "DOJI": 0,
                  "Up_Hook0": 1,
                  "Down_Hook0": 0,
                  "Up_Hook1": 1,
                  "Down_Hook1": 0,
                  "Up_Hook2": 1,
                  "Down_Hook2": 0,
                  "Up_Hook3": 1,
                  "Down_Hook3": 0,
                  "Up_Hook4": 1,
                  "Down_Hook4": 0,
                  "Up_Hook5": 1,
                  "Down_Hook5": 0,
                  "Up_Hook6": 1,
                  "Down_Hook6": 0,
                  "Up_Hook7": 1,
                  "Down_Hook7": 0,
                  "Up_Hook8": 0,
                  "Down_Hook8": 0,
                  "Up_Hook9": 0,
                  "Down_Hook9": 0,
                  "Up_Hook10": 0,
                  "Down_Hook10": 0,
                  "NR4_membership": 0,
                  "NR6_membership": 0,
                  "NR7_membership": 0,
                  "DOJI0.05": "nan",
                  "DOJI0.05_membership": 0,
                  "DOJI0.1": "nan",
                  "DOJI0.1_membership": 0,
                  "DOJI0.15": "nan",
                  "DOJI0.15_membership": 0,
                  "DOJI0.2": "nan",
                  "DOJI0.2_membership": 0,
                  "DOJI0.25": "nan",
                  "DOJI0.25_membership": 0,
                  "DOJI0.3": "nan",
                  "DOJI0.3_membership": 0,
                  "Hook0_x": "-15.52001953125",
                  "Hook0_membership": "0.0",
                  "Hook1_x": "-16.52001953125",
                  "Hook1_membership": "0.0",
                  "Hook2_x": "-17.52001953125",
                  "Hook2_membership": "0.0",
                  "Hook3_x": "-18.52001953125",
                  "Hook3_membership": "0.0",
                  "Hook4_x": "-19.52001953125",
                  "Hook4_membership": "0.0",
                  "Hook5_x": "-20.52001953125",
                  "Hook5_membership": "0.0",
                  "Hook6_x": "-21.52001953125",
                  "Hook6_membership": "0.0",
                  "Hook7_x": "-22.52001953125",
                  "Hook7_membership": "0.0",
                  "Hook8_x": "nan",
                  "Hook8_membership": "nan",
                  "Hook9_x": "nan",
                  "Hook9_membership": "nan",
                  "Hook10_x": "nan",
                  "Hook10_membership": "nan",
                  "_deepnote_index_column": "2021-03-11T00:00:00.000000"
                },
                {
                  "Open": 3075,
                  "High": 3098.969970703125,
                  "Low": 3045.5087890625,
                  "Close": 3089.489990234375,
                  "Adj Close": 3089.489990234375,
                  "Volume": 2421888,
                  "Range": 53.461181640625,
                  "RangeOC": -14.489990234375,
                  "Up_Trend": 0,
                  "Down_Trend": 0,
                  "NR2": 0,
                  "NR3": 1,
                  "NR4": 1,
                  "NR5": 1,
                  "NR6": 0,
                  "NR7": 0,
                  "DOJI": 0,
                  "Up_Hook0": 0,
                  "Down_Hook0": 0,
                  "Up_Hook1": 0,
                  "Down_Hook1": 0,
                  "Up_Hook2": 0,
                  "Down_Hook2": 0,
                  "Up_Hook3": 0,
                  "Down_Hook3": 0,
                  "Up_Hook4": 0,
                  "Down_Hook4": 0,
                  "Up_Hook5": 0,
                  "Down_Hook5": 0,
                  "Up_Hook6": 0,
                  "Down_Hook6": 0,
                  "Up_Hook7": 0,
                  "Down_Hook7": 0,
                  "Up_Hook8": 0,
                  "Down_Hook8": 0,
                  "Up_Hook9": 0,
                  "Down_Hook9": 0,
                  "Up_Hook10": 0,
                  "Down_Hook10": 0,
                  "NR4_membership": 0,
                  "NR6_membership": 0,
                  "NR7_membership": 0,
                  "DOJI0.05": "nan",
                  "DOJI0.05_membership": 0,
                  "DOJI0.1": "nan",
                  "DOJI0.1_membership": 0,
                  "DOJI0.15": "nan",
                  "DOJI0.15_membership": 0,
                  "DOJI0.2": "nan",
                  "DOJI0.2_membership": 0,
                  "DOJI0.25": "nan",
                  "DOJI0.25_membership": 0,
                  "DOJI0.3": "nan",
                  "DOJI0.3_membership": 0,
                  "Hook0_x": "nan",
                  "Hook0_membership": "nan",
                  "Hook1_x": "nan",
                  "Hook1_membership": "nan",
                  "Hook2_x": "nan",
                  "Hook2_membership": "nan",
                  "Hook3_x": "nan",
                  "Hook3_membership": "nan",
                  "Hook4_x": "nan",
                  "Hook4_membership": "nan",
                  "Hook5_x": "nan",
                  "Hook5_membership": "nan",
                  "Hook6_x": "nan",
                  "Hook6_membership": "nan",
                  "Hook7_x": "nan",
                  "Hook7_membership": "nan",
                  "Hook8_x": "nan",
                  "Hook8_membership": "nan",
                  "Hook9_x": "nan",
                  "Hook9_membership": "nan",
                  "Hook10_x": "nan",
                  "Hook10_membership": "nan",
                  "_deepnote_index_column": "2021-03-12T00:00:00.000000"
                }
              ]
            },
            "text/plain": "                   Open         High          Low        Close    Adj Close  \\\nDate                                                                          \n1997-05-15     2.437500     2.500000     1.927083     1.958333     1.958333   \n1997-05-16     1.968750     1.979167     1.708333     1.729167     1.729167   \n1997-05-19     1.760417     1.770833     1.625000     1.708333     1.708333   \n1997-05-20     1.729167     1.750000     1.635417     1.635417     1.635417   \n1997-05-21     1.635417     1.645833     1.375000     1.427083     1.427083   \n...                 ...          ...          ...          ...          ...   \n2021-03-08  3015.000000  3064.590088  2951.310059  2951.949951  2951.949951   \n2021-03-09  3017.989990  3090.959961  3005.149902  3062.850098  3062.850098   \n2021-03-10  3098.449951  3116.459961  3030.050049  3057.639893  3057.639893   \n2021-03-11  3104.010010  3131.780029  3082.929932  3113.590088  3113.590088   \n2021-03-12  3075.000000  3098.969971  3045.508789  3089.489990  3089.489990   \n\n              Volume       Range    RangeOC  Up_Trend  Down_Trend  ...  \\\nDate                                                               ...   \n1997-05-15  72156000    0.572917   0.479167       0.0         0.0  ...   \n1997-05-16  14700000    0.270834   0.239583       0.0         1.0  ...   \n1997-05-19   6106800    0.145833   0.052084       0.0         1.0  ...   \n1997-05-20   5467200    0.114583   0.093750       0.0         0.0  ...   \n1997-05-21  18853200    0.270833   0.208334       0.0         1.0  ...   \n...              ...         ...        ...       ...         ...  ...   \n2021-03-08   4178500  113.280029  63.050049       0.0         0.0  ...   \n2021-03-09   4023500   85.810059 -44.860107       0.0         0.0  ...   \n2021-03-10   3008700   86.409912  40.810059       0.0         0.0  ...   \n2021-03-11   2770800   48.850098  -9.580078       0.0         0.0  ...   \n2021-03-12   2421888   53.461182 -14.489990       0.0         0.0  ...   \n\n              Hook6_x  Hook6_membership    Hook7_x  Hook7_membership  Hook8_x  \\\nDate                                                                            \n1997-05-15        NaN               NaN        NaN               NaN      NaN   \n1997-05-16        NaN               NaN        NaN               NaN      NaN   \n1997-05-19        NaN               NaN        NaN               NaN      NaN   \n1997-05-20        NaN               NaN        NaN               NaN      NaN   \n1997-05-21        NaN               NaN        NaN               NaN      NaN   \n...               ...               ...        ...               ...      ...   \n2021-03-08        NaN               NaN        NaN               NaN      NaN   \n2021-03-09 -81.959961               0.0 -82.959961               0.0      NaN   \n2021-03-10        NaN               NaN        NaN               NaN      NaN   \n2021-03-11 -21.520020               0.0 -22.520020               0.0      NaN   \n2021-03-12        NaN               NaN        NaN               NaN      NaN   \n\n            Hook8_membership  Hook9_x  Hook9_membership  Hook10_x  \\\nDate                                                                \n1997-05-15               NaN      NaN               NaN       NaN   \n1997-05-16               NaN      NaN               NaN       NaN   \n1997-05-19               NaN      NaN               NaN       NaN   \n1997-05-20               NaN      NaN               NaN       NaN   \n1997-05-21               NaN      NaN               NaN       NaN   \n...                      ...      ...               ...       ...   \n2021-03-08               NaN      NaN               NaN       NaN   \n2021-03-09               NaN      NaN               NaN       NaN   \n2021-03-10               NaN      NaN               NaN       NaN   \n2021-03-11               NaN      NaN               NaN       NaN   \n2021-03-12               NaN      NaN               NaN       NaN   \n\n            Hook10_membership  \nDate                           \n1997-05-15                NaN  \n1997-05-16                NaN  \n1997-05-19                NaN  \n1997-05-20                NaN  \n1997-05-21                NaN  \n...                       ...  \n2021-03-08                NaN  \n2021-03-09                NaN  \n2021-03-10                NaN  \n2021-03-11                NaN  \n2021-03-12                NaN  \n\n[5996 rows x 76 columns]",
            "text/html": "<div>\n<style scoped>\n    .dataframe tbody tr th:only-of-type {\n        vertical-align: middle;\n    }\n\n    .dataframe tbody tr th {\n        vertical-align: top;\n    }\n\n    .dataframe thead th {\n        text-align: right;\n    }\n</style>\n<table border=\"1\" class=\"dataframe\">\n  <thead>\n    <tr style=\"text-align: right;\">\n      <th></th>\n      <th>Open</th>\n      <th>High</th>\n      <th>Low</th>\n      <th>Close</th>\n      <th>Adj Close</th>\n      <th>Volume</th>\n      <th>Range</th>\n      <th>RangeOC</th>\n      <th>Up_Trend</th>\n      <th>Down_Trend</th>\n      <th>...</th>\n      <th>Hook6_x</th>\n      <th>Hook6_membership</th>\n      <th>Hook7_x</th>\n      <th>Hook7_membership</th>\n      <th>Hook8_x</th>\n      <th>Hook8_membership</th>\n      <th>Hook9_x</th>\n      <th>Hook9_membership</th>\n      <th>Hook10_x</th>\n      <th>Hook10_membership</th>\n    </tr>\n    <tr>\n      <th>Date</th>\n      <th></th>\n      <th></th>\n      <th></th>\n      <th></th>\n      <th></th>\n      <th></th>\n      <th></th>\n      <th></th>\n      <th></th>\n      <th></th>\n      <th></th>\n      <th></th>\n      <th></th>\n      <th></th>\n      <th></th>\n      <th></th>\n      <th></th>\n      <th></th>\n      <th></th>\n      <th></th>\n      <th></th>\n    </tr>\n  </thead>\n  <tbody>\n    <tr>\n      <th>1997-05-15</th>\n      <td>2.437500</td>\n      <td>2.500000</td>\n      <td>1.927083</td>\n      <td>1.958333</td>\n      <td>1.958333</td>\n      <td>72156000</td>\n      <td>0.572917</td>\n      <td>0.479167</td>\n      <td>0.0</td>\n      <td>0.0</td>\n      <td>...</td>\n      <td>NaN</td>\n      <td>NaN</td>\n      <td>NaN</td>\n      <td>NaN</td>\n      <td>NaN</td>\n      <td>NaN</td>\n      <td>NaN</td>\n      <td>NaN</td>\n      <td>NaN</td>\n      <td>NaN</td>\n    </tr>\n    <tr>\n      <th>1997-05-16</th>\n      <td>1.968750</td>\n      <td>1.979167</td>\n      <td>1.708333</td>\n      <td>1.729167</td>\n      <td>1.729167</td>\n      <td>14700000</td>\n      <td>0.270834</td>\n      <td>0.239583</td>\n      <td>0.0</td>\n      <td>1.0</td>\n      <td>...</td>\n      <td>NaN</td>\n      <td>NaN</td>\n      <td>NaN</td>\n      <td>NaN</td>\n      <td>NaN</td>\n      <td>NaN</td>\n      <td>NaN</td>\n      <td>NaN</td>\n      <td>NaN</td>\n      <td>NaN</td>\n    </tr>\n    <tr>\n      <th>1997-05-19</th>\n      <td>1.760417</td>\n      <td>1.770833</td>\n      <td>1.625000</td>\n      <td>1.708333</td>\n      <td>1.708333</td>\n      <td>6106800</td>\n      <td>0.145833</td>\n      <td>0.052084</td>\n      <td>0.0</td>\n      <td>1.0</td>\n      <td>...</td>\n      <td>NaN</td>\n      <td>NaN</td>\n      <td>NaN</td>\n      <td>NaN</td>\n      <td>NaN</td>\n      <td>NaN</td>\n      <td>NaN</td>\n      <td>NaN</td>\n      <td>NaN</td>\n      <td>NaN</td>\n    </tr>\n    <tr>\n      <th>1997-05-20</th>\n      <td>1.729167</td>\n      <td>1.750000</td>\n      <td>1.635417</td>\n      <td>1.635417</td>\n      <td>1.635417</td>\n      <td>5467200</td>\n      <td>0.114583</td>\n      <td>0.093750</td>\n      <td>0.0</td>\n      <td>0.0</td>\n      <td>...</td>\n      <td>NaN</td>\n      <td>NaN</td>\n      <td>NaN</td>\n      <td>NaN</td>\n      <td>NaN</td>\n      <td>NaN</td>\n      <td>NaN</td>\n      <td>NaN</td>\n      <td>NaN</td>\n      <td>NaN</td>\n    </tr>\n    <tr>\n      <th>1997-05-21</th>\n      <td>1.635417</td>\n      <td>1.645833</td>\n      <td>1.375000</td>\n      <td>1.427083</td>\n      <td>1.427083</td>\n      <td>18853200</td>\n      <td>0.270833</td>\n      <td>0.208334</td>\n      <td>0.0</td>\n      <td>1.0</td>\n      <td>...</td>\n      <td>NaN</td>\n      <td>NaN</td>\n      <td>NaN</td>\n      <td>NaN</td>\n      <td>NaN</td>\n      <td>NaN</td>\n      <td>NaN</td>\n      <td>NaN</td>\n      <td>NaN</td>\n      <td>NaN</td>\n    </tr>\n    <tr>\n      <th>...</th>\n      <td>...</td>\n      <td>...</td>\n      <td>...</td>\n      <td>...</td>\n      <td>...</td>\n      <td>...</td>\n      <td>...</td>\n      <td>...</td>\n      <td>...</td>\n      <td>...</td>\n      <td>...</td>\n      <td>...</td>\n      <td>...</td>\n      <td>...</td>\n      <td>...</td>\n      <td>...</td>\n      <td>...</td>\n      <td>...</td>\n      <td>...</td>\n      <td>...</td>\n      <td>...</td>\n    </tr>\n    <tr>\n      <th>2021-03-08</th>\n      <td>3015.000000</td>\n      <td>3064.590088</td>\n      <td>2951.310059</td>\n      <td>2951.949951</td>\n      <td>2951.949951</td>\n      <td>4178500</td>\n      <td>113.280029</td>\n      <td>63.050049</td>\n      <td>0.0</td>\n      <td>0.0</td>\n      <td>...</td>\n      <td>NaN</td>\n      <td>NaN</td>\n      <td>NaN</td>\n      <td>NaN</td>\n      <td>NaN</td>\n      <td>NaN</td>\n      <td>NaN</td>\n      <td>NaN</td>\n      <td>NaN</td>\n      <td>NaN</td>\n    </tr>\n    <tr>\n      <th>2021-03-09</th>\n      <td>3017.989990</td>\n      <td>3090.959961</td>\n      <td>3005.149902</td>\n      <td>3062.850098</td>\n      <td>3062.850098</td>\n      <td>4023500</td>\n      <td>85.810059</td>\n      <td>-44.860107</td>\n      <td>0.0</td>\n      <td>0.0</td>\n      <td>...</td>\n      <td>-81.959961</td>\n      <td>0.0</td>\n      <td>-82.959961</td>\n      <td>0.0</td>\n      <td>NaN</td>\n      <td>NaN</td>\n      <td>NaN</td>\n      <td>NaN</td>\n      <td>NaN</td>\n      <td>NaN</td>\n    </tr>\n    <tr>\n      <th>2021-03-10</th>\n      <td>3098.449951</td>\n      <td>3116.459961</td>\n      <td>3030.050049</td>\n      <td>3057.639893</td>\n      <td>3057.639893</td>\n      <td>3008700</td>\n      <td>86.409912</td>\n      <td>40.810059</td>\n      <td>0.0</td>\n      <td>0.0</td>\n      <td>...</td>\n      <td>NaN</td>\n      <td>NaN</td>\n      <td>NaN</td>\n      <td>NaN</td>\n      <td>NaN</td>\n      <td>NaN</td>\n      <td>NaN</td>\n      <td>NaN</td>\n      <td>NaN</td>\n      <td>NaN</td>\n    </tr>\n    <tr>\n      <th>2021-03-11</th>\n      <td>3104.010010</td>\n      <td>3131.780029</td>\n      <td>3082.929932</td>\n      <td>3113.590088</td>\n      <td>3113.590088</td>\n      <td>2770800</td>\n      <td>48.850098</td>\n      <td>-9.580078</td>\n      <td>0.0</td>\n      <td>0.0</td>\n      <td>...</td>\n      <td>-21.520020</td>\n      <td>0.0</td>\n      <td>-22.520020</td>\n      <td>0.0</td>\n      <td>NaN</td>\n      <td>NaN</td>\n      <td>NaN</td>\n      <td>NaN</td>\n      <td>NaN</td>\n      <td>NaN</td>\n    </tr>\n    <tr>\n      <th>2021-03-12</th>\n      <td>3075.000000</td>\n      <td>3098.969971</td>\n      <td>3045.508789</td>\n      <td>3089.489990</td>\n      <td>3089.489990</td>\n      <td>2421888</td>\n      <td>53.461182</td>\n      <td>-14.489990</td>\n      <td>0.0</td>\n      <td>0.0</td>\n      <td>...</td>\n      <td>NaN</td>\n      <td>NaN</td>\n      <td>NaN</td>\n      <td>NaN</td>\n      <td>NaN</td>\n      <td>NaN</td>\n      <td>NaN</td>\n      <td>NaN</td>\n      <td>NaN</td>\n      <td>NaN</td>\n    </tr>\n  </tbody>\n</table>\n<p>5996 rows × 76 columns</p>\n</div>"
          },
          "metadata": {}
        }
      ]
    },
    {
      "cell_type": "markdown",
      "source": "# Results of features day memberships",
      "metadata": {
        "cell_id": "00012-8f9d9404-e4c1-432b-8aac-0a50f706e63a",
        "deepnote_cell_type": "markdown"
      }
    },
    {
      "cell_type": "code",
      "metadata": {
        "cell_id": "00015-83f364df-6c54-4617-80d0-9f769b7b1ca9",
        "deepnote_to_be_reexecuted": false,
        "source_hash": "b623e53d",
        "execution_start": 1615607708227,
        "execution_millis": 11,
        "deepnote_cell_type": "code"
      },
      "source": "",
      "execution_count": null,
      "outputs": []
    },
    {
      "cell_type": "markdown",
      "source": "<a style='text-decoration:none;line-height:16px;display:flex;color:#5B5B62;padding:10px;justify-content:end;' href='https://deepnote.com?utm_source=created-in-deepnote-cell&projectId=9433f6a9-5256-43e6-8a88-84eded61d4fc' target=\"_blank\">\n<img style='display:inline;max-height:16px;margin:0px;margin-right:7.5px;' src='data:image/svg+xml;base64,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' > </img>\nCreated in <span style='font-weight:600;margin-left:4px;'>Deepnote</span></a>",
      "metadata": {
        "tags": [],
        "created_in_deepnote_cell": true,
        "deepnote_cell_type": "markdown"
      }
    }
  ],
  "nbformat": 4,
  "nbformat_minor": 4,
  "metadata": {
    "kernelspec": {
      "display_name": "Python 3",
      "language": "python",
      "name": "python3"
    },
    "language_info": {
      "codemirror_mode": {
        "name": "ipython",
        "version": 3
      },
      "file_extension": ".py",
      "mimetype": "text/x-python",
      "name": "python",
      "nbconvert_exporter": "python",
      "pygments_lexer": "ipython3",
      "version": "3.8.5"
    },
    "deepnote_notebook_id": "22148a1d-5049-43a9-b088-02e561ceb673",
    "deepnote": {},
    "deepnote_execution_queue": []
  }
}